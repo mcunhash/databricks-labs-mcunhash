{
 "cells": [
  {
   "cell_type": "code",
   "execution_count": 0,
   "metadata": {
    "application/vnd.databricks.v1+cell": {
     "cellMetadata": {
      "byteLimit": 2048000,
      "implicitDf": true,
      "rowLimit": 10000
     },
     "inputWidgets": {},
     "nuid": "0f592e83-5c2b-40d3-aff3-9543307ef014",
     "showTitle": false,
     "tableResultSettingsMap": {},
     "title": ""
    }
   },
   "outputs": [],
   "source": [
    "%sql\n",
    "USE mc_labs;"
   ]
  },
  {
   "cell_type": "markdown",
   "metadata": {
    "application/vnd.databricks.v1+cell": {
     "cellMetadata": {},
     "inputWidgets": {},
     "nuid": "6c9be0f6-983a-416f-8cf5-265790c49887",
     "showTitle": false,
     "tableResultSettingsMap": {},
     "title": ""
    }
   },
   "source": [
    "## calcular a duração da viagem em minutos e depois selecionar apenas as viagens com duração superior a um certo limite."
   ]
  },
  {
   "cell_type": "code",
   "execution_count": 0,
   "metadata": {
    "application/vnd.databricks.v1+cell": {
     "cellMetadata": {
      "byteLimit": 2048000,
      "implicitDf": true,
      "rowLimit": 10000
     },
     "inputWidgets": {},
     "nuid": "6a02183d-033a-42de-98cb-a4f8b0529fe4",
     "showTitle": false,
     "tableResultSettingsMap": {},
     "title": ""
    }
   },
   "outputs": [],
   "source": [
    "%sql\n",
    "WITH TripDurations AS (\n",
    "  SELECT\n",
    "    tpep_pickup_datetime,\n",
    "    tpep_dropoff_datetime,\n",
    "    trip_distance,\n",
    "    fare_amount,\n",
    "    pickup_zip,\n",
    "    dropoff_zip,\n",
    "    (UNIX_TIMESTAMP(tpep_dropoff_datetime) - UNIX_TIMESTAMP(tpep_pickup_datetime)) / 60 AS trip_duration_minutes\n",
    "  FROM\n",
    "    trips_raw\n",
    "  WHERE\n",
    "    tpep_pickup_datetime IS NOT NULL AND tpep_dropoff_datetime IS NOT NULL\n",
    ")\n",
    "SELECT\n",
    "  tpep_pickup_datetime,\n",
    "  trip_duration_minutes,\n",
    "  fare_amount,\n",
    "  pickup_zip\n",
    "FROM\n",
    "  TripDurations\n",
    "WHERE\n",
    "  trip_duration_minutes > 60 -- Viagens com mais de 60 minutos\n",
    "ORDER BY\n",
    "  trip_duration_minutes DESC\n",
    "LIMIT 20;"
   ]
  },
  {
   "cell_type": "markdown",
   "metadata": {
    "application/vnd.databricks.v1+cell": {
     "cellMetadata": {},
     "inputWidgets": {},
     "nuid": "9ed8f670-18fe-4236-803d-6c5dd0c40d9c",
     "showTitle": false,
     "tableResultSettingsMap": {},
     "title": ""
    }
   },
   "source": [
    "## Usando múltiplas CTEs encadeadas para lógica mais complexa. Vamos calcular a duração média da viagem por pickup_zip e depois ranquear esses pickup_zips com base na duração média."
   ]
  },
  {
   "cell_type": "code",
   "execution_count": 0,
   "metadata": {
    "application/vnd.databricks.v1+cell": {
     "cellMetadata": {
      "byteLimit": 2048000,
      "implicitDf": true,
      "rowLimit": 10000
     },
     "inputWidgets": {},
     "nuid": "33af089d-7b3b-4bc0-8992-024cb68f4773",
     "showTitle": false,
     "tableResultSettingsMap": {},
     "title": ""
    }
   },
   "outputs": [],
   "source": [
    "%sql\n",
    "WITH TripDurations AS (\n",
    "  SELECT\n",
    "    pickup_zip,\n",
    "    (UNIX_TIMESTAMP(tpep_dropoff_datetime) - UNIX_TIMESTAMP(tpep_pickup_datetime)) / 60 AS trip_duration_minutes\n",
    "  FROM\n",
    "    trips_raw\n",
    "  WHERE\n",
    "    tpep_pickup_datetime IS NOT NULL AND tpep_dropoff_datetime IS NOT NULL AND pickup_zip IS NOT NULL\n",
    "),\n",
    "AvgDurationPerZip AS (\n",
    "  SELECT\n",
    "    pickup_zip,\n",
    "    AVG(trip_duration_minutes) AS average_trip_duration_minutes\n",
    "  FROM\n",
    "    TripDurations\n",
    "  GROUP BY\n",
    "    pickup_zip\n",
    ")\n",
    "SELECT\n",
    "  pickup_zip,\n",
    "  average_trip_duration_minutes,\n",
    "  RANK() OVER (ORDER BY average_trip_duration_minutes DESC) AS rank_by_avg_duration\n",
    "FROM\n",
    "  AvgDurationPerZip\n",
    "ORDER BY\n",
    "  rank_by_avg_duration\n",
    "LIMIT 20;"
   ]
  },
  {
   "cell_type": "markdown",
   "metadata": {
    "application/vnd.databricks.v1+cell": {
     "cellMetadata": {},
     "inputWidgets": {},
     "nuid": "5e915626-20ee-49b0-b284-885cfd409e38",
     "showTitle": false,
     "tableResultSettingsMap": {},
     "title": ""
    }
   },
   "source": [
    "## View para viagens com duração calculada. View que adiciona a coluna trip_duration_minutes à tabela trips_raw."
   ]
  },
  {
   "cell_type": "code",
   "execution_count": 0,
   "metadata": {
    "application/vnd.databricks.v1+cell": {
     "cellMetadata": {
      "byteLimit": 2048000,
      "implicitDf": true,
      "rowLimit": 10000
     },
     "inputWidgets": {},
     "nuid": "f53fb741-d106-483d-93ee-ee93ca00417f",
     "showTitle": false,
     "tableResultSettingsMap": {},
     "title": ""
    }
   },
   "outputs": [],
   "source": [
    "%sql\n",
    "CREATE OR REPLACE VIEW trips_with_duration AS\n",
    "SELECT\n",
    "  tpep_pickup_datetime,\n",
    "  tpep_dropoff_datetime,\n",
    "  trip_distance,\n",
    "  fare_amount,\n",
    "  pickup_zip,\n",
    "  dropoff_zip,\n",
    "  (UNIX_TIMESTAMP(tpep_dropoff_datetime) - UNIX_TIMESTAMP(tpep_pickup_datetime)) / 60 AS trip_duration_minutes\n",
    "FROM\n",
    "  trips_raw\n",
    "WHERE\n",
    "  tpep_pickup_datetime IS NOT NULL AND tpep_dropoff_datetime IS NOT NULL;\n",
    "\n",
    "-- Consultar a View\n",
    "SELECT *\n",
    "FROM trips_with_duration\n",
    "WHERE trip_duration_minutes > 120 -- Viagens com mais de 2 horas\n",
    "LIMIT 10;"
   ]
  },
  {
   "cell_type": "markdown",
   "metadata": {
    "application/vnd.databricks.v1+cell": {
     "cellMetadata": {},
     "inputWidgets": {},
     "nuid": "34fa718f-4ea1-4289-86b8-376b959f4191",
     "showTitle": false,
     "tableResultSettingsMap": {},
     "title": ""
    }
   },
   "source": [
    "## View que combina informações de trips_raw e zip_code_info. View que junta as informações das viagens com os nomes das cidades de partida e destino."
   ]
  },
  {
   "cell_type": "code",
   "execution_count": 0,
   "metadata": {
    "application/vnd.databricks.v1+cell": {
     "cellMetadata": {
      "byteLimit": 2048000,
      "implicitDf": true,
      "rowLimit": 10000
     },
     "inputWidgets": {},
     "nuid": "6c5df77c-0608-4f5b-bd65-fe733ba02f63",
     "showTitle": false,
     "tableResultSettingsMap": {},
     "title": ""
    }
   },
   "outputs": [],
   "source": [
    "%sql\n",
    "CREATE OR REPLACE VIEW trips_with_zip_details AS\n",
    "SELECT\n",
    "  t.tpep_pickup_datetime,\n",
    "  t.tpep_dropoff_datetime,\n",
    "  t.trip_distance,\n",
    "  t.fare_amount,\n",
    "  t.pickup_zip,\n",
    "  z_pickup.city_name AS pickup_city_name,\n",
    "  t.dropoff_zip,\n",
    "  z_dropoff.city_name AS dropoff_city_name\n",
    "FROM\n",
    "  trips_raw AS t\n",
    "LEFT JOIN\n",
    "  zip_code_info AS z_pickup ON t.pickup_zip = z_pickup.zip\n",
    "LEFT JOIN\n",
    "  zip_code_info AS z_dropoff ON t.dropoff_zip = z_dropoff.zip\n",
    "WHERE\n",
    "  t.pickup_zip IS NOT NULL AND t.dropoff_zip IS NOT NULL;\n",
    "\n",
    "-- Consultar a View\n",
    "SELECT\n",
    "  pickup_city_name,\n",
    "  COUNT(*) AS total_trips,\n",
    "  AVG(fare_amount) AS average_fare\n",
    "FROM\n",
    "  trips_with_zip_details\n",
    "GROUP BY\n",
    "  pickup_city_name\n",
    "ORDER BY\n",
    "  total_trips DESC\n",
    "LIMIT 10;"
   ]
  }
 ],
 "metadata": {
  "application/vnd.databricks.v1+notebook": {
   "computePreferences": null,
   "dashboards": [],
   "environmentMetadata": {
    "base_environment": "",
    "environment_version": "4"
   },
   "inputWidgetPreferences": null,
   "language": "python",
   "notebookMetadata": {
    "mostRecentlyExecutedCommandWithImplicitDF": {
     "commandId": 4941786213297680,
     "dataframes": [
      "_sqldf"
     ]
    },
    "pythonIndentUnit": 4
   },
   "notebookName": "06_ctes_and_views",
   "widgets": {}
  },
  "language_info": {
   "name": "python"
  }
 },
 "nbformat": 4,
 "nbformat_minor": 0
}
