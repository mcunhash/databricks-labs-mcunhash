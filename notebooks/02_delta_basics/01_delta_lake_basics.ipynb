{
 "cells": [
  {
   "cell_type": "markdown",
   "metadata": {
    "application/vnd.databricks.v1+cell": {
     "cellMetadata": {},
     "inputWidgets": {},
     "nuid": "5deb54c2-a7b9-4cf4-bed5-2d60574ca3d4",
     "showTitle": false,
     "tableResultSettingsMap": {},
     "title": ""
    }
   },
   "source": [
    "## -- 1. Criar uma Tabela Delta a partir de uma tabela existente (trips_raw)"
   ]
  },
  {
   "cell_type": "code",
   "execution_count": 0,
   "metadata": {
    "application/vnd.databricks.v1+cell": {
     "cellMetadata": {
      "byteLimit": 2048000,
      "implicitDf": true,
      "rowLimit": 10000
     },
     "collapsed": true,
     "inputWidgets": {},
     "nuid": "7c5ac66d-c1ed-4154-be1f-5c5be252e414",
     "showTitle": false,
     "tableResultSettingsMap": {},
     "title": ""
    }
   },
   "outputs": [],
   "source": [
    "%sql\n",
    "CREATE TABLE IF NOT EXISTS mc_labs.trips_delta\n",
    "USING DELTA\n",
    "AS SELECT\n",
    " tpep_pickup_datetime,\n",
    " tpep_dropoff_datetime,\n",
    " trip_distance,\n",
    " fare_amount,\n",
    " pickup_zip,\n",
    " dropoff_zip\n",
    "FROM mc_labs.trips_raw;\n",
    "\n",
    "-- Verificar se a tabela foi criada e contém dados\n",
    "SELECT * FROM mc_labs.trips_delta LIMIT 10;"
   ]
  },
  {
   "cell_type": "markdown",
   "metadata": {
    "application/vnd.databricks.v1+cell": {
     "cellMetadata": {},
     "inputWidgets": {},
     "nuid": "6b554866-a2b3-4f40-b157-4db8ec955b1b",
     "showTitle": false,
     "tableResultSettingsMap": {},
     "title": ""
    }
   },
   "source": [
    "## -- 2. Inserir Dados em uma Tabela Delta\n",
    "-- Podemos inserir mais dados, ou até mesmo dados de outra fonte\n",
    "-- Para simplificar, vamos inserir alguns dados de exemplo."
   ]
  },
  {
   "cell_type": "code",
   "execution_count": 0,
   "metadata": {
    "application/vnd.databricks.v1+cell": {
     "cellMetadata": {
      "byteLimit": 2048000,
      "implicitDf": true,
      "rowLimit": 10000
     },
     "inputWidgets": {},
     "nuid": "94d87782-3da1-4d7e-aca5-5cdef0914bc2",
     "showTitle": false,
     "tableResultSettingsMap": {},
     "title": ""
    }
   },
   "outputs": [],
   "source": [
    "%sql\n",
    "INSERT INTO mc_labs.trips_delta VALUES\n",
    "('2023-01-01 10:00:00', '2023-01-01 10:15:00', 2.5, 15.00, 10001, 10002),\n",
    "('2023-01-01 11:00:00', '2023-01-01 11:30:00', 5.0, 25.50, 10003, 10004);\n",
    "\n",
    "-- Verificar os novos dados\n",
    "SELECT * FROM mc_labs.trips_delta WHERE pickup_zip IN (10001, 10003);\n"
   ]
  },
  {
   "cell_type": "markdown",
   "metadata": {
    "application/vnd.databricks.v1+cell": {
     "cellMetadata": {},
     "inputWidgets": {},
     "nuid": "85d0ba70-16d5-426b-8dca-915c556ca9c7",
     "showTitle": false,
     "tableResultSettingsMap": {},
     "title": ""
    }
   },
   "source": [
    "## -- 3. Atualizar Dados (UPDATE)\n",
    "-- Vamos atualizar o fare_amount para viagens com um determinado pickup_zip"
   ]
  },
  {
   "cell_type": "code",
   "execution_count": 0,
   "metadata": {
    "application/vnd.databricks.v1+cell": {
     "cellMetadata": {
      "byteLimit": 2048000,
      "implicitDf": true,
      "rowLimit": 10000
     },
     "inputWidgets": {},
     "nuid": "10a0304d-b058-430f-87eb-a30a132aada2",
     "showTitle": false,
     "tableResultSettingsMap": {},
     "title": ""
    }
   },
   "outputs": [],
   "source": [
    "%sql\n",
    "UPDATE mc_labs.trips_delta\n",
    "SET fare_amount = fare_amount * 1.10 -- Aumentar em 10%\n",
    "WHERE pickup_zip = 10001;\n",
    "\n",
    "-- Verificar a atualização\n",
    "SELECT * FROM mc_labs.trips_delta WHERE pickup_zip = 10001;\n"
   ]
  },
  {
   "cell_type": "markdown",
   "metadata": {
    "application/vnd.databricks.v1+cell": {
     "cellMetadata": {},
     "inputWidgets": {},
     "nuid": "34d6c684-4635-47a6-9acb-08c499dd3ccc",
     "showTitle": false,
     "tableResultSettingsMap": {},
     "title": ""
    }
   },
   "source": [
    "## -- 4. Excluir Dados (DELETE)\n",
    "-- Vamos excluir as viagens com um determinado dropoff_zip"
   ]
  },
  {
   "cell_type": "code",
   "execution_count": 0,
   "metadata": {
    "application/vnd.databricks.v1+cell": {
     "cellMetadata": {
      "byteLimit": 2048000,
      "implicitDf": true,
      "rowLimit": 10000
     },
     "inputWidgets": {},
     "nuid": "2b4d0111-4985-4e87-9e4a-a58e0b213554",
     "showTitle": false,
     "tableResultSettingsMap": {},
     "title": ""
    }
   },
   "outputs": [],
   "source": [
    "%sql\n",
    "DELETE FROM mc_labs.trips_delta\n",
    "WHERE dropoff_zip = 10004;\n",
    "\n",
    "-- Verificar a exclusão\n",
    "SELECT * FROM mc_labs.trips_delta WHERE dropoff_zip = 10004; -- Deve retornar 0 linhas\n"
   ]
  },
  {
   "cell_type": "markdown",
   "metadata": {
    "application/vnd.databricks.v1+cell": {
     "cellMetadata": {},
     "inputWidgets": {},
     "nuid": "1835f9a2-98df-4af4-9cbc-beefd4175443",
     "showTitle": false,
     "tableResultSettingsMap": {},
     "title": ""
    }
   },
   "source": [
    "## -- 5. Upsert (MERGE INTO) - Uma das características mais poderosas do Delta Lake\n",
    "-- MERGE INTO permite inserir novas linhas, atualizar linhas existentes ou ambas,\n",
    "-- com base em uma condição de correspondência.\n",
    "-- Cenário: Temos novos dados de viagens. Se a viagem já existe (mesmo pickup/dropoff datetime e zips),\n",
    "-- queremos atualizar o fare_amount. Caso contrário, queremos inserir a nova viagem.\n"
   ]
  },
  {
   "cell_type": "code",
   "execution_count": 0,
   "metadata": {
    "application/vnd.databricks.v1+cell": {
     "cellMetadata": {
      "byteLimit": 2048000,
      "implicitDf": true,
      "rowLimit": 10000
     },
     "inputWidgets": {},
     "nuid": "e4636282-f3ea-45ad-8587-ea50f0fab18b",
     "showTitle": false,
     "tableResultSettingsMap": {},
     "title": ""
    }
   },
   "outputs": [],
   "source": [
    "%sql\n",
    "-- Primeiro, vamos criar uma tabela temporária com os dados de origem para o MERGE\n",
    "CREATE OR REPLACE TEMPORARY VIEW new_trip_data AS\n",
    "SELECT * FROM VALUES\n",
    "('2023-01-01 10:00:00', '2023-01-01 10:15:00', 2.5, 16.50, 10001, 10002), -- Viagem existente, fare_amount atualizado\n",
    "('2023-01-02 09:00:00', '2023-01-02 09:20:00', 3.0, 18.00, 10005, 10006)  -- Nova viagem\n",
    "AS new_data(tpep_pickup_datetime, tpep_dropoff_datetime, trip_distance, fare_amount, pickup_zip, dropoff_zip);\n",
    "\n",
    "-- Executar o MERGE INTO\n",
    "MERGE INTO mc_labs.trips_delta AS target\n",
    "USING new_trip_data AS source\n",
    "ON target.tpep_pickup_datetime = source.tpep_pickup_datetime\n",
    "AND target.pickup_zip = source.pickup_zip\n",
    "AND target.dropoff_zip = source.dropoff_zip\n",
    "WHEN MATCHED THEN\n",
    " UPDATE SET\n",
    "     target.fare_amount = source.fare_amount,\n",
    "     target.trip_distance = source.trip_distance\n",
    "WHEN NOT MATCHED THEN\n",
    " INSERT (tpep_pickup_datetime, tpep_dropoff_datetime, trip_distance, fare_amount, pickup_zip, dropoff_zip)\n",
    " VALUES (source.tpep_pickup_datetime, source.tpep_dropoff_datetime, source.trip_distance, source.fare_amount, source.pickup_zip, source.dropoff_zip);\n",
    "\n",
    "-- Verificar os resultados do MERGE\n",
    "SELECT * FROM mc_labs.trips_delta WHERE pickup_zip IN (10001, 10005);\n"
   ]
  },
  {
   "cell_type": "markdown",
   "metadata": {
    "application/vnd.databricks.v1+cell": {
     "cellMetadata": {},
     "inputWidgets": {},
     "nuid": "eea0811f-123c-47ba-8fd4-7b6e4063e92a",
     "showTitle": false,
     "tableResultSettingsMap": {},
     "title": ""
    }
   },
   "source": [
    "## -- 6. Time Travel (Viagem no Tempo)\n",
    "-- O Delta Lake mantém um histórico de todas as operações.\n",
    "-- Podemos ver o histórico da tabela:\n",
    "DESCRIBE HISTORY mc_labs.trips_delta;\n"
   ]
  },
  {
   "cell_type": "code",
   "execution_count": 0,
   "metadata": {
    "application/vnd.databricks.v1+cell": {
     "cellMetadata": {
      "byteLimit": 2048000,
      "implicitDf": true,
      "rowLimit": 10000
     },
     "inputWidgets": {},
     "nuid": "b5aa2bfa-a13e-4fbd-8ff5-cd8bb41f49a3",
     "showTitle": false,
     "tableResultSettingsMap": {},
     "title": ""
    }
   },
   "outputs": [],
   "source": [
    "%sql\n",
    "-- Consultar uma versão anterior da tabela (por exemplo, a versão 0, que é o estado inicial)\n",
    "-- A versão 0 deve ser o estado da tabela antes de qualquer INSERT, UPDATE, DELETE ou MERGE.\n",
    "SELECT * FROM mc_labs.trips_delta VERSION AS OF 0 LIMIT 10;\n",
    "\n",
    "-- Consultar uma versão anterior por timestamp (substitua pelo timestamp real de uma operação anterior)\n",
    "-- SELECT * FROM mc_labs.trips_delta TIMESTAMP AS OF '2023-10-25 22:00:00' LIMIT 10;\n",
    "-- (Você precisaria de um timestamp de uma operação anterior real para testar isso)\n"
   ]
  },
  {
   "cell_type": "markdown",
   "metadata": {
    "application/vnd.databricks.v1+cell": {
     "cellMetadata": {},
     "inputWidgets": {},
     "nuid": "7d7b8c07-8b00-4b4c-8b9f-4c35f3d6c680",
     "showTitle": false,
     "tableResultSettingsMap": {},
     "title": ""
    }
   },
   "source": [
    "## -- 7. Schema Enforcement (Exemplo de falha)\n",
    "-- Tentar inserir dados com um tipo de dado incorreto deve falhar"
   ]
  },
  {
   "cell_type": "code",
   "execution_count": 0,
   "metadata": {
    "application/vnd.databricks.v1+cell": {
     "cellMetadata": {
      "byteLimit": 2048000,
      "implicitDf": true,
      "rowLimit": 10000
     },
     "inputWidgets": {},
     "nuid": "6591059e-0161-4c71-98b2-30b462a2ea43",
     "showTitle": false,
     "tableResultSettingsMap": {},
     "title": ""
    }
   },
   "outputs": [],
   "source": [
    "%sql\n",
    "-- INSERT INTO mc_labs.trips_delta VALUES\n",
    "--('2023-01-01 10:00:00', '2023-01-01 10:15:00', 'INVALID_DISTANCE', 15.00, 10001, 10002);\n",
    "-- Descomente e execute para ver o erro de schema enforcement."
   ]
  },
  {
   "cell_type": "markdown",
   "metadata": {
    "application/vnd.databricks.v1+cell": {
     "cellMetadata": {},
     "inputWidgets": {},
     "nuid": "b02b59ce-71b8-4532-a690-dd005592eca9",
     "showTitle": false,
     "tableResultSettingsMap": {},
     "title": ""
    }
   },
   "source": [
    "## -- 8. Schema Evolution (Adicionar uma nova coluna)\n",
    "-- Podemos adicionar uma nova coluna à tabela Delta"
   ]
  },
  {
   "cell_type": "code",
   "execution_count": 0,
   "metadata": {
    "application/vnd.databricks.v1+cell": {
     "cellMetadata": {
      "byteLimit": 2048000,
      "implicitDf": true,
      "rowLimit": 10000
     },
     "inputWidgets": {},
     "nuid": "0e37ecf2-f4bc-404a-9119-cc5d6a2f6f12",
     "showTitle": false,
     "tableResultSettingsMap": {},
     "title": ""
    }
   },
   "outputs": [],
   "source": [
    "%sql\n",
    "ALTER TABLE mc_labs.trips_delta ADD COLUMN payment_type STRING;\n",
    "\n",
    "-- Verificar o esquema atualizado\n",
    "DESCRIBE mc_labs.trips_delta;"
   ]
  },
  {
   "cell_type": "code",
   "execution_count": 0,
   "metadata": {
    "application/vnd.databricks.v1+cell": {
     "cellMetadata": {
      "byteLimit": 2048000,
      "implicitDf": true,
      "rowLimit": 10000
     },
     "inputWidgets": {},
     "nuid": "69654e08-7cc8-4b3a-8ade-841335b85c5c",
     "showTitle": false,
     "tableResultSettingsMap": {},
     "title": ""
    }
   },
   "outputs": [],
   "source": [
    "%sql\n",
    "-- Inserir dados com a nova coluna (ou atualizar)\n",
    "INSERT INTO mc_labs.trips_delta VALUES\n",
    "('2023-01-03 12:00:00', '2023-01-03 12:10:00', 1.8, 12.00, 10007, 10008, 'Credit Card');\n",
    "\n",
    "SELECT * FROM mc_labs.trips_delta WHERE pickup_zip = 10007;"
   ]
  },
  {
   "cell_type": "code",
   "execution_count": 0,
   "metadata": {
    "application/vnd.databricks.v1+cell": {
     "cellMetadata": {
      "byteLimit": 2048000,
      "implicitDf": true,
      "rowLimit": 10000
     },
     "inputWidgets": {},
     "nuid": "9eb0d759-94a7-49d9-9097-4d9089cbdd59",
     "showTitle": false,
     "tableResultSettingsMap": {},
     "title": ""
    }
   },
   "outputs": [],
   "source": [
    "%sql\n",
    "DESCRIBE HISTORY mc_labs.trips_delta"
   ]
  }
 ],
 "metadata": {
  "application/vnd.databricks.v1+notebook": {
   "computePreferences": null,
   "dashboards": [],
   "environmentMetadata": {
    "base_environment": "",
    "environment_version": "4"
   },
   "inputWidgetPreferences": null,
   "language": "python",
   "notebookMetadata": {
    "mostRecentlyExecutedCommandWithImplicitDF": {
     "commandId": 4515913993332924,
     "dataframes": [
      "_sqldf"
     ]
    },
    "pythonIndentUnit": 4
   },
   "notebookName": "01_delta_lake_basics",
   "widgets": {}
  },
  "language_info": {
   "name": "python"
  }
 },
 "nbformat": 4,
 "nbformat_minor": 0
}
