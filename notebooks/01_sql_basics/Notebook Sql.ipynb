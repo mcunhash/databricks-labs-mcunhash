{
 "cells": [
  {
   "cell_type": "code",
   "execution_count": 0,
   "metadata": {
    "application/vnd.databricks.v1+cell": {
     "cellMetadata": {
      "byteLimit": 2048000,
      "implicitDf": true,
      "rowLimit": 10000
     },
     "inputWidgets": {},
     "nuid": "7e075ecb-db10-4052-a14b-1af0d8831dc5",
     "showTitle": true,
     "tableResultSettingsMap": {},
     "title": "Consulta 1: Agregação por passenger_count"
    }
   },
   "outputs": [],
   "source": [
    "%sql\n",
    "SELECT\n",
    "pickup_zip,\n",
    "COUNT(*) AS total_trips,\n",
    "AVG(fare_amount) AS avg_fare_amount,\n",
    "AVG(trip_distance) AS avg_trip_distance\n",
    "FROM\n",
    "mc_labs.trips_raw\n",
    "GROUP BY\n",
    "pickup_zip\n",
    "ORDER BY\n",
    "total_trips DESC; -- Ordena pelos CEPs com mais viagens"
   ]
  },
  {
   "cell_type": "code",
   "execution_count": 0,
   "metadata": {
    "application/vnd.databricks.v1+cell": {
     "cellMetadata": {
      "byteLimit": 2048000,
      "implicitDf": true,
      "rowLimit": 10000
     },
     "inputWidgets": {},
     "nuid": "a0c7efb1-a0c2-4d95-926f-e8eceb30db86",
     "showTitle": true,
     "tableResultSettingsMap": {},
     "title": "Consulta 2: CTE + ROW_NUMBER para deduplicação (ajustada)"
    }
   },
   "outputs": [],
   "source": [
    "%sql\n",
    "WITH\n",
    "ranked_trips AS (\n",
    "  SELECT\n",
    "    tpep_pickup_datetime,\n",
    "    tpep_dropoff_datetime,\n",
    "    trip_distance,\n",
    "    fare_amount,\n",
    "    pickup_zip,\n",
    "    dropoff_zip,\n",
    "    ROW_NUMBER() OVER (\n",
    "      PARTITION BY\n",
    "        tpep_pickup_datetime,\n",
    "        tpep_dropoff_datetime,\n",
    "        trip_distance,\n",
    "        fare_amount -- Usando uma combinação de campos para identificar \"duplicatas\"\n",
    "      ORDER BY\n",
    "        tpep_pickup_datetime -- Ordem para decidir qual \"duplicata\" manter\n",
    "    ) AS rn\n",
    "  FROM\n",
    "    mc_labs.trips_raw\n",
    ")\n",
    "SELECT\n",
    "tpep_pickup_datetime,\n",
    "tpep_dropoff_datetime,\n",
    "trip_distance,\n",
    "fare_amount,\n",
    "pickup_zip,\n",
    "dropoff_zip -- Lista explicitamente todas as colunas que quero manter, exceto 'rn'\n",
    "FROM\n",
    "ranked_trips\n",
    "WHERE\n",
    "rn = 1;"
   ]
  },
  {
   "cell_type": "code",
   "execution_count": 0,
   "metadata": {
    "application/vnd.databricks.v1+cell": {
     "cellMetadata": {
      "byteLimit": 2048000,
      "implicitDf": true,
      "rowLimit": 10000
     },
     "inputWidgets": {},
     "nuid": "074123d0-09b4-4bd6-8bb6-fd3998015a4f",
     "showTitle": true,
     "tableResultSettingsMap": {},
     "title": "Série diária (COUNT e AVG"
    }
   },
   "outputs": [],
   "source": [
    "%sql\n",
    "SELECT\n",
    "  CAST(tpep_pickup_datetime AS DATE) AS trip_date,\n",
    "  COUNT(*) AS daily_total_trips,\n",
    "  AVG(fare_amount) AS daily_avg_fare_amount,\n",
    "  AVG(trip_distance) AS daily_avg_trip_distance\n",
    "FROM\n",
    "  mc_labs.trips_raw\n",
    "GROUP BY\n",
    "  CAST(tpep_pickup_datetime AS DATE)\n",
    "ORDER BY\n",
    "  trip_date;"
   ]
  },
  {
   "cell_type": "code",
   "execution_count": 0,
   "metadata": {
    "application/vnd.databricks.v1+cell": {
     "cellMetadata": {
      "byteLimit": 2048000,
      "implicitDf": true,
      "rowLimit": 10000
     },
     "inputWidgets": {},
     "nuid": "c4a5a9e2-e44f-4ea5-9b25-ef885eb05f9b",
     "showTitle": true,
     "tableResultSettingsMap": {},
     "title": "INNER JOIN  - Viagens com cidade de origem"
    }
   },
   "outputs": [],
   "source": [
    "%sql\n",
    "SELECT\n",
    "t.tpep_pickup_datetime,\n",
    "t.tpep_dropoff_datetime,\n",
    "t.trip_distance,\n",
    "t.fare_amount,\n",
    "t.pickup_zip,\n",
    "z.city_name AS pickup_city\n",
    "FROM\n",
    "mc_labs.trips_raw AS t\n",
    "INNER JOIN\n",
    "mc_labs.zip_code_info AS z\n",
    "ON\n",
    "t.pickup_zip = z.zip\n",
    "LIMIT 100; -- Limita para facilitar a visualização inicial"
   ]
  },
  {
   "cell_type": "code",
   "execution_count": 0,
   "metadata": {
    "application/vnd.databricks.v1+cell": {
     "cellMetadata": {
      "byteLimit": 2048000,
      "implicitDf": true,
      "rowLimit": 10000
     },
     "inputWidgets": {},
     "nuid": "882da4f8-fcfa-439d-bfeb-6322b9c7181a",
     "showTitle": true,
     "tableResultSettingsMap": {},
     "title": "LEFT JOIN - Todas as viagens com cidade de origem (se disponível)"
    }
   },
   "outputs": [],
   "source": [
    "%sql\n",
    "SELECT\n",
    "t.tpep_pickup_datetime,\n",
    "t.trip_distance,\n",
    "t.fare_amount,\n",
    "t.pickup_zip,\n",
    "z.city_name AS pickup_city\n",
    "FROM\n",
    "mc_labs.trips_raw AS t\n",
    "LEFT JOIN\n",
    "mc_labs.zip_code_info AS z\n",
    "ON\n",
    "t.pickup_zip = z.zip\n",
    "LIMIT 100; -- Limita para facilitar a visualização inicial"
   ]
  },
  {
   "cell_type": "code",
   "execution_count": 0,
   "metadata": {
    "application/vnd.databricks.v1+cell": {
     "cellMetadata": {
      "byteLimit": 2048000,
      "implicitDf": true,
      "rowLimit": 10000
     },
     "inputWidgets": {},
     "nuid": "3027626e-7884-4c63-a3f1-83e11c7b6141",
     "showTitle": true,
     "tableResultSettingsMap": {},
     "title": "INNER JOIN para origem e destino"
    }
   },
   "outputs": [],
   "source": [
    "%sql\n",
    "SELECT\n",
    "t.tpep_pickup_datetime,\n",
    "t.tpep_dropoff_datetime,\n",
    "t.trip_distance,\n",
    "t.fare_amount,\n",
    "t.pickup_zip,\n",
    "z_pickup.city_name AS pickup_city,\n",
    "t.dropoff_zip,\n",
    "z_dropoff.city_name AS dropoff_city\n",
    "FROM\n",
    "mc_labs.trips_raw AS t\n",
    "INNER JOIN\n",
    "mc_labs.zip_code_info AS z_pickup\n",
    "ON\n",
    "t.pickup_zip = z_pickup.zip\n",
    "INNER JOIN\n",
    "mc_labs.zip_code_info AS z_dropoff\n",
    "ON\n",
    "t.dropoff_zip = z_dropoff.zip\n",
    "LIMIT 100;"
   ]
  },
  {
   "cell_type": "code",
   "execution_count": 0,
   "metadata": {
    "application/vnd.databricks.v1+cell": {
     "cellMetadata": {
      "byteLimit": 2048000,
      "implicitDf": true,
      "rowLimit": 10000
     },
     "inputWidgets": {},
     "nuid": "1ed6daa5-5aee-4359-9b77-967438d1fdee",
     "showTitle": true,
     "tableResultSettingsMap": {},
     "title": "Subquery no WHERE - Viagens que começaram em \"New York\""
    }
   },
   "outputs": [],
   "source": [
    "%sql\n",
    "SELECT\n",
    "t.tpep_pickup_datetime,\n",
    "t.trip_distance,\n",
    "t.fare_amount,\n",
    "t.pickup_zip\n",
    "FROM\n",
    "mc_labs.trips_raw AS t\n",
    "WHERE\n",
    "t.pickup_zip IN (\n",
    "  SELECT\n",
    "    zip\n",
    "  FROM\n",
    "    mc_labs.zip_code_info\n",
    "  WHERE\n",
    "    city_name = 'New York'\n",
    ")\n",
    "LIMIT 100;"
   ]
  },
  {
   "cell_type": "code",
   "execution_count": 0,
   "metadata": {
    "application/vnd.databricks.v1+cell": {
     "cellMetadata": {
      "byteLimit": 2048000,
      "implicitDf": true,
      "rowLimit": 10000
     },
     "inputWidgets": {},
     "nuid": "db7e0b59-3e42-4673-a98d-56adb7c1e19f",
     "showTitle": true,
     "tableResultSettingsMap": {},
     "title": "Subquery para agregação - Contagem de viagens por cidade de origem"
    }
   },
   "outputs": [],
   "source": [
    "%sql\n",
    "SELECT\n",
    "z.city_name,\n",
    "trip_counts.total_trips_from_city\n",
    "FROM\n",
    "mc_labs.zip_code_info AS z\n",
    "INNER JOIN (\n",
    "SELECT\n",
    "  pickup_zip,\n",
    "  COUNT(*) AS total_trips_from_city\n",
    "FROM\n",
    "  mc_labs.trips_raw\n",
    "GROUP BY\n",
    "  pickup_zip\n",
    ") AS trip_counts\n",
    "ON\n",
    "z.zip = trip_counts.pickup_zip\n",
    "ORDER BY\n",
    "trip_counts.total_trips_from_city DESC\n",
    "LIMIT 10; -- Mostra as 10 cidades com mais viagens de origem"
   ]
  }
 ],
 "metadata": {
  "application/vnd.databricks.v1+notebook": {
   "computePreferences": null,
   "dashboards": [],
   "environmentMetadata": {
    "base_environment": "",
    "environment_version": "3"
   },
   "inputWidgetPreferences": null,
   "language": "python",
   "notebookMetadata": {
    "mostRecentlyExecutedCommandWithImplicitDF": {
     "commandId": 6472146032901865,
     "dataframes": [
      "_sqldf"
     ]
    },
    "pythonIndentUnit": 4
   },
   "notebookName": "Notebook Sql",
   "widgets": {}
  },
  "language_info": {
   "name": "python"
  }
 },
 "nbformat": 4,
 "nbformat_minor": 0
}
