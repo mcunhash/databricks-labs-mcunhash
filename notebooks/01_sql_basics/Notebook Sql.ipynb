{
 "cells": [
  {
   "cell_type": "code",
   "execution_count": 0,
   "metadata": {
    "application/vnd.databricks.v1+cell": {
     "cellMetadata": {
      "byteLimit": 2048000,
      "implicitDf": true,
      "rowLimit": 10000
     },
     "inputWidgets": {},
     "nuid": "7e075ecb-db10-4052-a14b-1af0d8831dc5",
     "showTitle": true,
     "tableResultSettingsMap": {},
     "title": "Consulta 1: Agregação por passenger_count"
    }
   },
   "outputs": [],
   "source": [
    "%sql\n",
    "SELECT\n",
    "pickup_zip,\n",
    "COUNT(*) AS total_trips,\n",
    "AVG(fare_amount) AS avg_fare_amount,\n",
    "AVG(trip_distance) AS avg_trip_distance\n",
    "FROM\n",
    "mc_labs.trips_raw\n",
    "GROUP BY\n",
    "pickup_zip\n",
    "ORDER BY\n",
    "total_trips DESC; -- Ordena pelos CEPs com mais viagens"
   ]
  },
  {
   "cell_type": "code",
   "execution_count": 0,
   "metadata": {
    "application/vnd.databricks.v1+cell": {
     "cellMetadata": {
      "byteLimit": 2048000,
      "implicitDf": true,
      "rowLimit": 10000
     },
     "inputWidgets": {},
     "nuid": "a0c7efb1-a0c2-4d95-926f-e8eceb30db86",
     "showTitle": true,
     "tableResultSettingsMap": {},
     "title": "Consulta 2: CTE + ROW_NUMBER para deduplicação (ajustada)"
    }
   },
   "outputs": [],
   "source": [
    "%sql\n",
    "WITH\n",
    "ranked_trips AS (\n",
    "  SELECT\n",
    "    tpep_pickup_datetime,\n",
    "    tpep_dropoff_datetime,\n",
    "    trip_distance,\n",
    "    fare_amount,\n",
    "    pickup_zip,\n",
    "    dropoff_zip,\n",
    "    ROW_NUMBER() OVER (\n",
    "      PARTITION BY\n",
    "        tpep_pickup_datetime,\n",
    "        tpep_dropoff_datetime,\n",
    "        trip_distance,\n",
    "        fare_amount -- Usando uma combinação de campos para identificar \"duplicatas\"\n",
    "      ORDER BY\n",
    "        tpep_pickup_datetime -- Ordem para decidir qual \"duplicata\" manter\n",
    "    ) AS rn\n",
    "  FROM\n",
    "    mc_labs.trips_raw\n",
    ")\n",
    "SELECT\n",
    "tpep_pickup_datetime,\n",
    "tpep_dropoff_datetime,\n",
    "trip_distance,\n",
    "fare_amount,\n",
    "pickup_zip,\n",
    "dropoff_zip -- Lista explicitamente todas as colunas que você quer manter, exceto 'rn'\n",
    "FROM\n",
    "ranked_trips\n",
    "WHERE\n",
    "rn = 1;"
   ]
  },
  {
   "cell_type": "code",
   "execution_count": 0,
   "metadata": {
    "application/vnd.databricks.v1+cell": {
     "cellMetadata": {
      "byteLimit": 2048000,
      "implicitDf": true,
      "rowLimit": 10000
     },
     "inputWidgets": {},
     "nuid": "074123d0-09b4-4bd6-8bb6-fd3998015a4f",
     "showTitle": true,
     "tableResultSettingsMap": {},
     "title": "Série diária (COUNT e AVG"
    }
   },
   "outputs": [],
   "source": [
    "%sql\n",
    "SELECT\n",
    "  CAST(tpep_pickup_datetime AS DATE) AS trip_date,\n",
    "  COUNT(*) AS daily_total_trips,\n",
    "  AVG(fare_amount) AS daily_avg_fare_amount,\n",
    "  AVG(trip_distance) AS daily_avg_trip_distance\n",
    "FROM\n",
    "  mc_labs.trips_raw\n",
    "GROUP BY\n",
    "  CAST(tpep_pickup_datetime AS DATE)\n",
    "ORDER BY\n",
    "  trip_date;"
   ]
  }
 ],
 "metadata": {
  "application/vnd.databricks.v1+notebook": {
   "computePreferences": null,
   "dashboards": [],
   "environmentMetadata": {
    "base_environment": "",
    "environment_version": "3"
   },
   "inputWidgetPreferences": null,
   "language": "python",
   "notebookMetadata": {
    "mostRecentlyExecutedCommandWithImplicitDF": {
     "commandId": 6472146032901858,
     "dataframes": [
      "_sqldf"
     ]
    },
    "pythonIndentUnit": 4
   },
   "notebookName": "Notebook Sql",
   "widgets": {}
  },
  "language_info": {
   "name": "python"
  }
 },
 "nbformat": 4,
 "nbformat_minor": 0
}
