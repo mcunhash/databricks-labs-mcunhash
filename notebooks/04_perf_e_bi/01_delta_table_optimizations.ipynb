{
 "cells": [
  {
   "cell_type": "markdown",
   "metadata": {
    "application/vnd.databricks.v1+cell": {
     "cellMetadata": {},
     "inputWidgets": {},
     "nuid": "2fb4f19e-68de-4d8d-b1ac-aa4b31266716",
     "showTitle": false,
     "tableResultSettingsMap": {},
     "title": ""
    }
   },
   "source": [
    "## -- Notebook: 01_delta_table_optimizations.ipynb\n",
    "-- Objetivo: Explorar técnicas de otimização para tabelas Delta."
   ]
  },
  {
   "cell_type": "markdown",
   "metadata": {
    "application/vnd.databricks.v1+cell": {
     "cellMetadata": {},
     "inputWidgets": {},
     "nuid": "100e8ca1-ee57-4c1b-b0fd-bc5111a7b7d1",
     "showTitle": false,
     "tableResultSettingsMap": {},
     "title": ""
    }
   },
   "source": [
    "## -- Vamos usar a tabela Gold (mc_labs.daily_city_pair_metrics) e Silver (mc_labs.trips_silver)\n",
    "-- como exemplos para aplicar as otimizações.\n"
   ]
  },
  {
   "cell_type": "code",
   "execution_count": 0,
   "metadata": {
    "application/vnd.databricks.v1+cell": {
     "cellMetadata": {
      "byteLimit": 2048000,
      "implicitDf": true,
      "rowLimit": 10000
     },
     "inputWidgets": {},
     "nuid": "16a07907-0343-42ae-a0ab-ad634de19d54",
     "showTitle": false,
     "tableResultSettingsMap": {},
     "title": ""
    }
   },
   "outputs": [],
   "source": [
    "%sql\n",
    "\n",
    "-- 1. Entendendo o estado atual da tabela (antes da otimização)\n",
    "-- Podemos ver quantos arquivos a tabela tem e seu tamanho\n",
    "DESCRIBE DETAIL mc_labs.daily_city_pair_metrics;\n"
   ]
  },
  {
   "cell_type": "markdown",
   "metadata": {
    "application/vnd.databricks.v1+cell": {
     "cellMetadata": {},
     "inputWidgets": {},
     "nuid": "ebb47fcb-7ea4-4495-a957-7ce635930ec7",
     "showTitle": false,
     "tableResultSettingsMap": {},
     "title": ""
    }
   },
   "source": [
    "## -- Ou, para uma visão mais detalhada dos arquivos (requer permissões de acesso ao sistema de arquivos)\n",
    "-- SELECT * FROM json.`${path_to_delta_table}/_delta_log/00000000000000000000.json` -- Exemplo de como ver o log\n",
    "-- No Databricks, o DESCRIBE DETAIL já dá uma boa ideia."
   ]
  },
  {
   "cell_type": "markdown",
   "metadata": {
    "application/vnd.databricks.v1+cell": {
     "cellMetadata": {},
     "inputWidgets": {},
     "nuid": "7657fe1d-19d8-45ce-a0dc-55748ef2d64c",
     "showTitle": false,
     "tableResultSettingsMap": {},
     "title": ""
    }
   },
   "source": [
    "## -- 2. OPTIMIZE: Compactação de Arquivos Pequenos\n",
    "-- O comando OPTIMIZE compacta arquivos de dados pequenos em arquivos maiores,\n",
    "-- o que reduz a sobrecarga de leitura e melhora o desempenho das consultas.\n",
    "-- É especialmente útil após muitas operações de INSERT, UPDATE ou MERGE INTO.\n"
   ]
  },
  {
   "cell_type": "code",
   "execution_count": 0,
   "metadata": {
    "application/vnd.databricks.v1+cell": {
     "cellMetadata": {
      "byteLimit": 2048000,
      "implicitDf": true,
      "rowLimit": 10000
     },
     "inputWidgets": {},
     "nuid": "e446856e-c39e-4d11-a7a5-6e3ac2ba9d9e",
     "showTitle": false,
     "tableResultSettingsMap": {},
     "title": ""
    }
   },
   "outputs": [],
   "source": [
    "%sql\n",
    "-- Sintaxe básica: OPTIMIZE table_name;\n",
    "-- Sintaxe com filtro (para otimizar apenas partes da tabela): OPTIMIZE table_name WHERE condition;\n",
    "\n",
    "-- Exemplo: Otimizar a tabela Gold\n",
    "OPTIMIZE mc_labs.daily_city_pair_metrics;"
   ]
  },
  {
   "cell_type": "code",
   "execution_count": 0,
   "metadata": {
    "application/vnd.databricks.v1+cell": {
     "cellMetadata": {
      "byteLimit": 2048000,
      "implicitDf": true,
      "rowLimit": 10000
     },
     "inputWidgets": {},
     "nuid": "2bd6da34-0eae-45ea-be67-57bc7ee90cc9",
     "showTitle": false,
     "tableResultSettingsMap": {},
     "title": ""
    }
   },
   "outputs": [],
   "source": [
    "%sql\n",
    "-- Verifique novamente o DESCRIBE DETAIL para ver a mudança no número de arquivos\n",
    "DESCRIBE DETAIL mc_labs.daily_city_pair_metrics;\n",
    "-- Você deve notar uma redução no número de arquivos e um aumento no tamanho médio dos arquivos."
   ]
  },
  {
   "cell_type": "markdown",
   "metadata": {
    "application/vnd.databricks.v1+cell": {
     "cellMetadata": {},
     "inputWidgets": {},
     "nuid": "d705af12-f355-4514-ab5b-e4b50f9130ab",
     "showTitle": false,
     "tableResultSettingsMap": {},
     "title": ""
    }
   },
   "source": [
    "## -- 3. Z-Ordering: Otimização para Consultas com Filtros\n",
    "-- Z-Ordering é uma técnica de co-localização de dados que organiza dados relacionados\n",
    "-- em um conjunto de arquivos. Isso é extremamente eficaz para consultas que filtram\n",
    "-- por uma ou mais colunas, pois o Spark pode pular arquivos inteiros que não contêm\n",
    "-- os dados relevantes.\n",
    "\n",
    "-- É uma extensão do comando OPTIMIZE.\n",
    "-- Escolha colunas que são frequentemente usadas em cláusulas WHERE ou JOIN.\n",
    "-- Não use muitas colunas (geralmente 1 a 4 é o ideal)."
   ]
  },
  {
   "cell_type": "code",
   "execution_count": 0,
   "metadata": {
    "application/vnd.databricks.v1+cell": {
     "cellMetadata": {
      "byteLimit": 2048000,
      "implicitDf": true,
      "rowLimit": 10000
     },
     "inputWidgets": {},
     "nuid": "c794c19c-3287-448a-b739-6adbff803efb",
     "showTitle": false,
     "tableResultSettingsMap": {},
     "title": ""
    }
   },
   "outputs": [],
   "source": [
    "%sql\n",
    "-- Exemplo: Aplicar Z-Ordering na tabela Gold por pickup_date e pickup_city_name\n",
    "-- Estas são colunas que provavelmente serão usadas para filtrar relatórios de BI.\n",
    "OPTIMIZE mc_labs.daily_city_pair_metrics\n",
    "ZORDER BY (pickup_date, pickup_city_name);"
   ]
  },
  {
   "cell_type": "code",
   "execution_count": 0,
   "metadata": {
    "application/vnd.databricks.v1+cell": {
     "cellMetadata": {
      "byteLimit": 2048000,
      "implicitDf": true,
      "rowLimit": 10000
     },
     "inputWidgets": {},
     "nuid": "fc84aed2-ba88-4bd6-950f-2c395d078f59",
     "showTitle": false,
     "tableResultSettingsMap": {},
     "title": ""
    }
   },
   "outputs": [],
   "source": [
    "%sql\n",
    "-- Exemplo: Aplicar Z-Ordering na tabela Gold por pickup_date e pickup_city_name\n",
    "-- Estas são colunas que provavelmente serão usadas para filtrar relatórios de BI.\n",
    "OPTIMIZE mc_labs.daily_city_pair_metrics\n",
    "ZORDER BY (pickup_date, pickup_city_name);"
   ]
  },
  {
   "cell_type": "markdown",
   "metadata": {
    "application/vnd.databricks.v1+cell": {
     "cellMetadata": {},
     "inputWidgets": {},
     "nuid": "e84fe392-1b32-4968-b8d1-36b1bf680534",
     "showTitle": false,
     "tableResultSettingsMap": {},
     "title": ""
    }
   },
   "source": [
    "## -- 4. Particionamento (Revisão e Considerações com Delta Lake)\n",
    "-- O particionamento organiza os dados em subdiretórios com base nos valores de uma ou mais colunas.\n",
    "-- No Delta Lake, o particionamento ainda é suportado, mas o Z-Ordering é frequentemente preferível\n",
    "-- para muitas cargas de trabalho, especialmente com um grande número de partições."
   ]
  },
  {
   "cell_type": "markdown",
   "metadata": {
    "application/vnd.databricks.v1+cell": {
     "cellMetadata": {},
     "inputWidgets": {},
     "nuid": "8d9eb450-5ed5-4b5d-9bc0-8eb3f12f167a",
     "showTitle": false,
     "tableResultSettingsMap": {},
     "title": ""
    }
   },
   "source": [
    "## -- Quando usar particionamento:\n",
    "-- - Quando você tem um número relativamente pequeno de valores distintos para a coluna de partição (ex: ano, mês).\n",
    "-- - Quando suas consultas filtram *quase sempre* por essa coluna e você quer que o Spark ignore grandes volumes de dados.\n",
    "-- - Quando você precisa gerenciar o ciclo de vida dos dados em nível de partição (ex: arquivar dados antigos por ano).\n"
   ]
  },
  {
   "cell_type": "markdown",
   "metadata": {
    "application/vnd.databricks.v1+cell": {
     "cellMetadata": {},
     "inputWidgets": {},
     "nuid": "f722feba-76d7-482a-8d2e-829afb47beea",
     "showTitle": false,
     "tableResultSettingsMap": {},
     "title": ""
    }
   },
   "source": [
    "## -- Como criar uma tabela Delta particionada (exemplo, não execute se já criou a tabela sem partição):\n"
   ]
  },
  {
   "cell_type": "code",
   "execution_count": 0,
   "metadata": {
    "application/vnd.databricks.v1+cell": {
     "cellMetadata": {
      "byteLimit": 2048000,
      "implicitDf": true,
      "rowLimit": 10000
     },
     "inputWidgets": {},
     "nuid": "b0d7c2ac-6800-4bd3-bd7e-768052793eda",
     "showTitle": false,
     "tableResultSettingsMap": {},
     "title": ""
    }
   },
   "outputs": [],
   "source": [
    "%sql\n",
    "CREATE TABLE mc_labs.daily_city_pair_metrics_partitioned\n",
    "USING DELTA\n",
    "PARTITIONED BY (pickup_date) -- Ou (pickup_year, pickup_month)\n",
    "AS SELECT\n",
    "    pickup_date,\n",
    "    pickup_city_name,\n",
    "    dropoff_city_name,\n",
    "    COUNT(*) AS total_trips,\n",
    "    AVG(fare_amount) AS avg_fare_amount,\n",
    "    SUM(trip_distance) AS total_trip_distance\n",
    "FROM\n",
    "    mc_labs.trips_silver\n",
    "GROUP BY\n",
    "    pickup_date,\n",
    "    pickup_city_name,\n",
    "    dropoff_city_name;"
   ]
  },
  {
   "cell_type": "markdown",
   "metadata": {
    "application/vnd.databricks.v1+cell": {
     "cellMetadata": {},
     "inputWidgets": {},
     "nuid": "c89c7e6c-f3a5-4866-9b63-ca9d6f178be8",
     "showTitle": false,
     "tableResultSettingsMap": {},
     "title": ""
    }
   },
   "source": [
    "## -- Para tabelas existentes, você não pode simplesmente adicionar PARTITIONED BY.\n",
    "-- Você precisaria recriar a tabela ou usar um comando como `ALTER TABLE ... ADD PARTITION` (que é mais para Hive).\n",
    "-- No Delta Lake, a melhor prática é definir o particionamento na criação da tabela.\n",
    "\n",
    "-- **Diferença chave entre Z-Ordering e Particionamento:**\n",
    "-- - Particionamento: Cria diretórios físicos. Ótimo para filtros de alta seletividade com poucos valores distintos. Pode levar a muitos arquivos pequenos se houver muitas partições.\n",
    "-- - Z-Ordering: Organiza dados *dentro* dos arquivos. Ótimo para filtros de média/baixa seletividade e para evitar o problema de \"muitos arquivos pequenos\" que o particionamento pode causar.\n"
   ]
  },
  {
   "cell_type": "markdown",
   "metadata": {
    "application/vnd.databricks.v1+cell": {
     "cellMetadata": {},
     "inputWidgets": {},
     "nuid": "fb972e21-0045-47e0-9422-82d991a1f05e",
     "showTitle": false,
     "tableResultSettingsMap": {},
     "title": ""
    }
   },
   "source": [
    "## -- 5. VACUUM: Limpeza de Arquivos Antigos\n",
    "-- O comando VACUUM remove arquivos de dados que não são mais referenciados pelo log de transações\n",
    "-- do Delta Lake e que estão além de um determinado limite de retenção.\n",
    "-- Isso libera espaço de armazenamento.\n"
   ]
  },
  {
   "cell_type": "markdown",
   "metadata": {
    "application/vnd.databricks.v1+cell": {
     "cellMetadata": {},
     "inputWidgets": {},
     "nuid": "c1b4956b-60dd-4ba2-a114-3c5e1c02603b",
     "showTitle": false,
     "tableResultSettingsMap": {},
     "title": ""
    }
   },
   "source": [
    "## -- **ATENÇÃO:** Use VACUUM com cautela!\n",
    "-- - Ele remove arquivos permanentemente.\n",
    "-- - Se você usar VACUUM, o Time Travel só funcionará para versões dentro do período de retenção.\n",
    "-- - O padrão de retenção é 7 dias. Você pode alterá-lo com `SET spark.databricks.delta.retentionDurationCheck.enabled = false;` e `VACUUM table_name RETAIN 0 HOURS;` (mas isso é perigoso).\n",
    "\n",
    "-- Exemplo: Remover arquivos não referenciados com um período de retenção de 0 horas (apenas para demonstração, não recomendado em produção sem entender o impacto)\n",
    "-- SET spark.databricks.delta.retentionDurationCheck.enabled = false; -- Desabilita a verificação de retenção para permitir 0 horas\n",
    "-- VACUUM mc_labs.daily_city_pair_metrics RETAIN 0 HOURS;\n",
    "-- SET spark.databricks.delta.retentionDurationCheck.enabled = true; -- Reabilita a verificação\n",
    "\n",
    "-- Para uso em produção, geralmente você executa VACUUM com o período de retenção padrão (7 dias)\n",
    "-- ou um período maior que garanta que o Time Travel ainda funcione para suas necessidades.\n",
    "-- VACUUM mc_labs.daily_city_pair_metrics; -- Usará o padrão de 7 dias\n"
   ]
  },
  {
   "cell_type": "code",
   "execution_count": 0,
   "metadata": {
    "application/vnd.databricks.v1+cell": {
     "cellMetadata": {
      "byteLimit": 2048000,
      "implicitDf": true,
      "rowLimit": 10000
     },
     "inputWidgets": {},
     "nuid": "b55ae5dc-1886-41e6-a46b-3f19a4980240",
     "showTitle": false,
     "tableResultSettingsMap": {},
     "title": ""
    }
   },
   "outputs": [],
   "source": [
    "%sql\n",
    "-- Para ver os arquivos que seriam removidos sem realmente removê-los:\n",
    "VACUUM mc_labs.daily_city_pair_metrics DRY RUN;\n"
   ]
  },
  {
   "cell_type": "markdown",
   "metadata": {
    "application/vnd.databricks.v1+cell": {
     "cellMetadata": {},
     "inputWidgets": {},
     "nuid": "168cc071-1e4f-4123-a1e4-44a194fd972b",
     "showTitle": false,
     "tableResultSettingsMap": {},
     "title": ""
    }
   },
   "source": [
    "## -- 6. Analisar e Otimizar Consultas\n",
    "-- Além das otimizações de tabela, é crucial analisar o plano de execução das suas consultas.\n",
    "-- Use EXPLAIN para entender como o Spark está processando sua query."
   ]
  },
  {
   "cell_type": "code",
   "execution_count": 0,
   "metadata": {
    "application/vnd.databricks.v1+cell": {
     "cellMetadata": {
      "byteLimit": 2048000,
      "implicitDf": true,
      "rowLimit": 10000
     },
     "inputWidgets": {},
     "nuid": "fd80e892-fa53-402b-8a8a-c133991f7353",
     "showTitle": false,
     "tableResultSettingsMap": {},
     "title": ""
    }
   },
   "outputs": [],
   "source": [
    "%sql\n",
    "EXPLAIN SELECT * FROM mc_labs.daily_city_pair_metrics WHERE pickup_city_name = 'New York' AND pickup_date = '2023-01-01';\n",
    "\n",
    "-- Observe no plano de execução se o Spark está fazendo \"file skipping\" (pulando arquivos)\n",
    "-- graças ao Z-Ordering e aos metadados do Delta Lake."
   ]
  }
 ],
 "metadata": {
  "application/vnd.databricks.v1+notebook": {
   "computePreferences": null,
   "dashboards": [],
   "environmentMetadata": {
    "base_environment": "",
    "environment_version": "4"
   },
   "inputWidgetPreferences": null,
   "language": "python",
   "notebookMetadata": {
    "mostRecentlyExecutedCommandWithImplicitDF": {
     "commandId": 8616486794304940,
     "dataframes": [
      "_sqldf"
     ]
    },
    "pythonIndentUnit": 4
   },
   "notebookName": "01_delta_table_optimizations",
   "widgets": {}
  },
  "language_info": {
   "name": "python"
  }
 },
 "nbformat": 4,
 "nbformat_minor": 0
}
