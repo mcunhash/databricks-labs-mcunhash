{
 "cells": [
  {
   "cell_type": "code",
   "execution_count": 0,
   "metadata": {
    "application/vnd.databricks.v1+cell": {
     "cellMetadata": {
      "byteLimit": 2048000,
      "implicitDf": true,
      "rowLimit": 10000
     },
     "inputWidgets": {},
     "nuid": "7ee0ade2-e39e-4b8d-b86b-3686bf7d1935",
     "showTitle": false,
     "tableResultSettingsMap": {},
     "title": ""
    }
   },
   "outputs": [],
   "source": [
    "%sql\n",
    "USE mc_labs;"
   ]
  },
  {
   "cell_type": "markdown",
   "metadata": {
    "application/vnd.databricks.v1+cell": {
     "cellMetadata": {},
     "inputWidgets": {},
     "nuid": "d95d2f4f-b8e1-4cd4-8383-396ab20ff0fa",
     "showTitle": false,
     "tableResultSettingsMap": {},
     "title": ""
    }
   },
   "source": [
    "##  Calcular o fare_amount (valor da corrida) da viagem anterior para cada pickup_zip. Isso pode ajudar a identificar tendências de preços ou anomalias em uma determinada área de partida."
   ]
  },
  {
   "cell_type": "code",
   "execution_count": 0,
   "metadata": {
    "application/vnd.databricks.v1+cell": {
     "cellMetadata": {
      "byteLimit": 2048000,
      "implicitDf": true,
      "rowLimit": 10000
     },
     "inputWidgets": {},
     "nuid": "462e652b-1b13-48a9-b9aa-7a7b039331ed",
     "showTitle": false,
     "tableResultSettingsMap": {},
     "title": ""
    }
   },
   "outputs": [],
   "source": [
    "%sql\n",
    "-- Exemplo 1: Fare amount da viagem anterior para cada pickup_zip\n",
    "SELECT\n",
    "  pickup_zip,\n",
    "  tpep_pickup_datetime,\n",
    "  fare_amount,\n",
    "  LAG(fare_amount, 1, 0.0) OVER (PARTITION BY pickup_zip ORDER BY tpep_pickup_datetime) AS previous_fare_amount\n",
    "FROM\n",
    "  trips_raw\n",
    "WHERE\n",
    "  pickup_zip IS NOT NULL -- Garante que estamos olhando para zips válidos\n",
    "ORDER BY\n",
    "  pickup_zip,\n",
    "  tpep_pickup_datetime\n",
    "LIMIT 20;\n",
    "\n",
    "/*PARTITION BY pickup_zip: Divide os dados em grupos, um para cada código postal de partida. A função LAG operará independentemente dentro de cada grupo.\n",
    "ORDER BY tpep_pickup_datetime: Dentro de cada grupo de pickup_zip, as linhas são ordenadas pelo tempo de início da viagem.\n",
    "LAG(fare_amount, 1, 0.0): Pega o fare_amount da linha imediatamente anterior (offset = 1). Se não houver linha anterior (primeira viagem para aquele pickup_zip), retorna 0.0.*/"
   ]
  },
  {
   "cell_type": "markdown",
   "metadata": {
    "application/vnd.databricks.v1+cell": {
     "cellMetadata": {},
     "inputWidgets": {},
     "nuid": "1b10c780-e363-40e0-81b9-aafab0722800",
     "showTitle": false,
     "tableResultSettingsMap": {},
     "title": ""
    }
   },
   "source": [
    "## Calcular o tempo de início da próxima viagem para cada pickup_zip. Isso pode ser usado para determinar o tempo de inatividade entre as viagens que partem de uma mesma área."
   ]
  },
  {
   "cell_type": "code",
   "execution_count": 0,
   "metadata": {
    "application/vnd.databricks.v1+cell": {
     "cellMetadata": {
      "byteLimit": 2048000,
      "implicitDf": true,
      "rowLimit": 10000
     },
     "inputWidgets": {},
     "nuid": "f19ac3b3-c8af-43fb-aeb2-e3f177c2632d",
     "showTitle": false,
     "tableResultSettingsMap": {},
     "title": ""
    }
   },
   "outputs": [],
   "source": [
    "%sql\n",
    "SELECT\n",
    "  pickup_zip,\n",
    "  tpep_pickup_datetime,\n",
    "  tpep_dropoff_datetime,\n",
    "  LEAD(tpep_pickup_datetime, 1) OVER (PARTITION BY pickup_zip ORDER BY tpep_pickup_datetime) AS next_trip_pickup_datetime,\n",
    "  -- Calcular o tempo de inatividade entre o fim da viagem atual e o início da próxima (em minutos)\n",
    "  (UNIX_TIMESTAMP(LEAD(tpep_pickup_datetime, 1) OVER (PARTITION BY pickup_zip ORDER BY tpep_pickup_datetime)) - UNIX_TIMESTAMP(tpep_dropoff_datetime)) / 60 AS minutes_idle_after_trip\n",
    "FROM\n",
    "  trips_raw\n",
    "WHERE\n",
    "  pickup_zip IS NOT NULL\n",
    "ORDER BY\n",
    "  pickup_zip,\n",
    "  tpep_pickup_datetime\n",
    "LIMIT 20;\n",
    "\n",
    "/*Similar ao LAG, mas LEAD olha para a frente.\n",
    "Calculamos minutes_idle_after_trip para mostrar uma aplicação prática de LEAD para análise de tempo entre eventos.*/"
   ]
  },
  {
   "cell_type": "markdown",
   "metadata": {
    "application/vnd.databricks.v1+cell": {
     "cellMetadata": {},
     "inputWidgets": {},
     "nuid": "c1d603dc-4223-4229-b3bc-a4d104c3134a",
     "showTitle": false,
     "tableResultSettingsMap": {},
     "title": ""
    }
   },
   "source": [
    "## Classificar as viagens com os maiores fare_amount por pickup_zip."
   ]
  },
  {
   "cell_type": "code",
   "execution_count": 0,
   "metadata": {
    "application/vnd.databricks.v1+cell": {
     "cellMetadata": {
      "byteLimit": 2048000,
      "implicitDf": true,
      "rowLimit": 10000
     },
     "inputWidgets": {},
     "nuid": "4379211b-3505-4812-9561-35e76edba434",
     "showTitle": false,
     "tableResultSettingsMap": {},
     "title": ""
    }
   },
   "outputs": [],
   "source": [
    "%sql\n",
    "SELECT\n",
    "  pickup_zip,\n",
    "  tpep_pickup_datetime,\n",
    "  fare_amount,\n",
    "  RANK() OVER (PARTITION BY pickup_zip ORDER BY fare_amount DESC) AS rank_by_fare_amount\n",
    "FROM\n",
    "  trips_raw\n",
    "WHERE\n",
    "  pickup_zip IS NOT NULL\n",
    "ORDER BY\n",
    "  pickup_zip,\n",
    "  rank_by_fare_amount\n",
    "LIMIT 30;"
   ]
  },
  {
   "cell_type": "markdown",
   "metadata": {
    "application/vnd.databricks.v1+cell": {
     "cellMetadata": {},
     "inputWidgets": {},
     "nuid": "1156b9da-0057-4329-b6ec-9c83c3b135be",
     "showTitle": false,
     "tableResultSettingsMap": {},
     "title": ""
    }
   },
   "source": [
    "## Classificar os códigos postais por população dentro de cada estado (usando sua tabela zip_code_info)."
   ]
  },
  {
   "cell_type": "code",
   "execution_count": 0,
   "metadata": {
    "application/vnd.databricks.v1+cell": {
     "cellMetadata": {
      "byteLimit": 2048000,
      "implicitDf": true,
      "rowLimit": 10000
     },
     "inputWidgets": {},
     "nuid": "f6c1b7c0-246d-4792-974a-7e631fa31e32",
     "showTitle": false,
     "tableResultSettingsMap": {},
     "title": ""
    }
   },
   "outputs": [],
   "source": [
    "%sql\n",
    "SELECT\n",
    "city_name,\n",
    "zip,\n",
    "DENSE_RANK() OVER (PARTITION BY city_name ORDER BY zip ASC) AS dense_rank_zip_in_city\n",
    "FROM\n",
    "zip_code_info\n",
    "WHERE\n",
    "city_name IS NOT NULL -- Garante que estamos olhando para cidades válidas\n",
    "ORDER BY\n",
    "city_name,\n",
    "dense_rank_zip_in_city\n",
    "LIMIT 30;"
   ]
  },
  {
   "cell_type": "markdown",
   "metadata": {
    "application/vnd.databricks.v1+cell": {
     "cellMetadata": {},
     "inputWidgets": {},
     "nuid": "fd714853-4741-4019-8740-ed1d5037f348",
     "showTitle": false,
     "tableResultSettingsMap": {},
     "title": ""
    }
   },
   "source": [
    "## Dividir todas as viagens em 4 quartis com base no fare_amount. Isso pode ser útil para segmentar viagens em \"baratas\", \"médias\", \"caras\" e \"muito caras\"."
   ]
  },
  {
   "cell_type": "code",
   "execution_count": 0,
   "metadata": {
    "application/vnd.databricks.v1+cell": {
     "cellMetadata": {
      "byteLimit": 2048000,
      "implicitDf": true,
      "rowLimit": 10000
     },
     "inputWidgets": {},
     "nuid": "c4d24700-cfbd-4e85-a101-5f6cacbdebee",
     "showTitle": false,
     "tableResultSettingsMap": {},
     "title": ""
    }
   },
   "outputs": [],
   "source": [
    "%sql\n",
    "SELECT\n",
    "  tpep_pickup_datetime, -- Incluído para contexto, mas NTILE opera sobre o conjunto ordenado\n",
    "  fare_amount,\n",
    "  NTILE(4) OVER (ORDER BY fare_amount) AS fare_amount_quartile\n",
    "FROM\n",
    "  trips_raw\n",
    "WHERE\n",
    "  fare_amount IS NOT NULL\n",
    "ORDER BY\n",
    "  fare_amount\n",
    "LIMIT 50;"
   ]
  },
  {
   "cell_type": "markdown",
   "metadata": {
    "application/vnd.databricks.v1+cell": {
     "cellMetadata": {},
     "inputWidgets": {},
     "nuid": "83b1c842-7502-4239-af1c-82cc5db7f23c",
     "showTitle": false,
     "tableResultSettingsMap": {},
     "title": ""
    }
   },
   "source": [
    "## duração da viagem, pode calculá-la a partir das colunas de data/hora: UNIX_TIMESTAMP(tpep_dropoff_datetime) - UNIX_TIMESTAMP(tpep_pickup_datetime) (resulta em segundos)."
   ]
  },
  {
   "cell_type": "code",
   "execution_count": 0,
   "metadata": {
    "application/vnd.databricks.v1+cell": {
     "cellMetadata": {
      "byteLimit": 2048000,
      "implicitDf": true,
      "rowLimit": 10000
     },
     "inputWidgets": {},
     "nuid": "7df41b5e-98a0-47f1-8931-28028907c370",
     "showTitle": false,
     "tableResultSettingsMap": {},
     "title": ""
    }
   },
   "outputs": [],
   "source": [
    "%sql\n",
    "SELECT\n",
    "pickup_zip,\n",
    "tpep_pickup_datetime,\n",
    "(UNIX_TIMESTAMP(tpep_dropoff_datetime) - UNIX_TIMESTAMP(tpep_pickup_datetime)) AS trip_duration_seconds,\n",
    "LAG((UNIX_TIMESTAMP(tpep_dropoff_datetime) - UNIX_TIMESTAMP(tpep_pickup_datetime)), 1, 0) OVER (PARTITION BY pickup_zip ORDER BY tpep_pickup_datetime) AS previous_trip_duration_seconds\n",
    "FROM\n",
    "trips_raw\n",
    "WHERE\n",
    "pickup_zip IS NOT NULL\n",
    "ORDER BY\n",
    "pickup_zip,\n",
    "tpep_pickup_datetime\n",
    "LIMIT 20;"
   ]
  }
 ],
 "metadata": {
  "application/vnd.databricks.v1+notebook": {
   "computePreferences": null,
   "dashboards": [],
   "environmentMetadata": {
    "base_environment": "",
    "environment_version": "4"
   },
   "inputWidgetPreferences": null,
   "language": "python",
   "notebookMetadata": {
    "mostRecentlyExecutedCommandWithImplicitDF": {
     "commandId": 5210497972408672,
     "dataframes": [
      "_sqldf"
     ]
    },
    "pythonIndentUnit": 4
   },
   "notebookName": "05_advanced_window_functions",
   "widgets": {}
  },
  "language_info": {
   "name": "python"
  }
 },
 "nbformat": 4,
 "nbformat_minor": 0
}
