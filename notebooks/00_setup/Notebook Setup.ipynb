{
 "cells": [
  {
   "cell_type": "code",
   "execution_count": 0,
   "metadata": {
    "application/vnd.databricks.v1+cell": {
     "cellMetadata": {
      "byteLimit": 2048000,
      "implicitDf": true,
      "rowLimit": 10000
     },
     "inputWidgets": {},
     "nuid": "ffe057c8-2174-4743-8712-3f9c37122565",
     "showTitle": true,
     "tableResultSettingsMap": {},
     "title": "SCHEMA CREATE"
    }
   },
   "outputs": [],
   "source": [
    "%sql\n",
    "CREATE SCHEMA IF NOT EXISTS mc_labs; \n",
    "USE mc_labs;"
   ]
  },
  {
   "cell_type": "code",
   "execution_count": 0,
   "metadata": {
    "application/vnd.databricks.v1+cell": {
     "cellMetadata": {
      "byteLimit": 2048000,
      "implicitDf": true,
      "rowLimit": 10000
     },
     "inputWidgets": {},
     "nuid": "37551408-21ce-41cc-bd25-e1a14cc000ca",
     "showTitle": true,
     "tableResultSettingsMap": {},
     "title": "MC_LABS"
    }
   },
   "outputs": [],
   "source": [
    "%sql\n",
    "SELECT current_catalog() AS catalog, current_schema() AS schema;"
   ]
  },
  {
   "cell_type": "code",
   "execution_count": 0,
   "metadata": {
    "application/vnd.databricks.v1+cell": {
     "cellMetadata": {
      "byteLimit": 2048000,
      "implicitDf": true,
      "rowLimit": 10000
     },
     "inputWidgets": {},
     "nuid": "fadec7e8-3494-4b4d-8e52-da049ed1f390",
     "showTitle": true,
     "tableResultSettingsMap": {},
     "title": "SAMPLE EXEMPLO DADOS"
    }
   },
   "outputs": [],
   "source": [
    "%sql SELECT * FROM samples.nyctaxi.trips LIMIT 10;"
   ]
  },
  {
   "cell_type": "code",
   "execution_count": 0,
   "metadata": {
    "application/vnd.databricks.v1+cell": {
     "cellMetadata": {
      "byteLimit": 2048000,
      "implicitDf": true,
      "rowLimit": 10000
     },
     "inputWidgets": {},
     "nuid": "6d2cfd4e-e883-418e-85fc-ce63b665e578",
     "showTitle": true,
     "tableResultSettingsMap": {},
     "title": "CRIADO TABELA NO SCHEMA ATUAL"
    }
   },
   "outputs": [],
   "source": [
    "%sql CREATE OR REPLACE TABLE trips_raw USING delta AS SELECT * FROM samples.nyctaxi.trips;"
   ]
  }
 ],
 "metadata": {
  "application/vnd.databricks.v1+notebook": {
   "computePreferences": null,
   "dashboards": [],
   "environmentMetadata": {
    "base_environment": "",
    "environment_version": "3"
   },
   "inputWidgetPreferences": null,
   "language": "python",
   "notebookMetadata": {
    "mostRecentlyExecutedCommandWithImplicitDF": {
     "commandId": 8536956166404633,
     "dataframes": [
      "_sqldf"
     ]
    },
    "pythonIndentUnit": 4
   },
   "notebookName": "Notebook Setup",
   "widgets": {}
  },
  "language_info": {
   "name": "python"
  }
 },
 "nbformat": 4,
 "nbformat_minor": 0
}
