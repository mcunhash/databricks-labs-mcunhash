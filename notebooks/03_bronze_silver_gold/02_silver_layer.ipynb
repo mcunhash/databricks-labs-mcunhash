{
 "cells": [
  {
   "cell_type": "markdown",
   "metadata": {
    "application/vnd.databricks.v1+cell": {
     "cellMetadata": {},
     "inputWidgets": {},
     "nuid": "ea8dc4ee-b6ba-4993-bcd0-c5829190dbb9",
     "showTitle": false,
     "tableResultSettingsMap": {},
     "title": ""
    }
   },
   "source": [
    "## -- Notebook: 02_silver_layer.ipynb\n",
    "-- Camada: Silver\n",
    "-- Objetivo: Limpar, enriquecer e padronizar dados da camada Bronze."
   ]
  },
  {
   "cell_type": "markdown",
   "metadata": {
    "application/vnd.databricks.v1+cell": {
     "cellMetadata": {},
     "inputWidgets": {},
     "nuid": "77989b6f-6a8d-46ca-b1c0-7deacc5f98ed",
     "showTitle": false,
     "tableResultSettingsMap": {},
     "title": ""
    }
   },
   "source": [
    "## -- 1. Criar a Tabela Delta na Camada Silver\n",
    "-- Inicialmente, vamos criar a tabela Silver com uma carga completa dos dados limpos e enriquecidos.\n",
    "-- Usaremos uma CTE para organizar a lógica de transformação."
   ]
  },
  {
   "cell_type": "code",
   "execution_count": 0,
   "metadata": {
    "application/vnd.databricks.v1+cell": {
     "cellMetadata": {
      "byteLimit": 2048000,
      "implicitDf": true,
      "rowLimit": 10000
     },
     "inputWidgets": {},
     "nuid": "eb82db72-1853-4f2e-8593-9a6dda9522f6",
     "showTitle": false,
     "tableResultSettingsMap": {},
     "title": ""
    }
   },
   "outputs": [],
   "source": [
    "%sql\n",
    "CREATE TABLE IF NOT EXISTS mc_labs.trips_silver\n",
    "USING DELTA\n",
    "AS\n",
    "WITH\n",
    " -- CTE para enriquecer os dados da Bronze com nomes de cidades\n",
    " enriched_trips AS (\n",
    "     SELECT\n",
    "         tr.tpep_pickup_datetime AS pickup_datetime,\n",
    "         tr.tpep_dropoff_datetime AS dropoff_datetime,\n",
    "         tr.trip_distance,\n",
    "         tr.fare_amount,\n",
    "         tr.pickup_zip,\n",
    "         tr.dropoff_zip,\n",
    "         pz.city_name AS pickup_city_name,\n",
    "         dz.city_name AS dropoff_city_name,\n",
    "         tr.ingestion_timestamp\n",
    "     FROM\n",
    "         mc_labs.trips_bronze AS tr\n",
    "     LEFT JOIN\n",
    "         mc_labs.zip_code_info AS pz ON tr.pickup_zip = pz.zip\n",
    "     LEFT JOIN\n",
    "         mc_labs.zip_code_info AS dz ON tr.dropoff_zip = dz.zip\n",
    " )\n",
    "SELECT\n",
    " pickup_datetime,\n",
    " dropoff_datetime,\n",
    " CAST(pickup_datetime AS DATE) AS pickup_date, -- Adiciona uma coluna de data para facilitar análises\n",
    " trip_distance,\n",
    " fare_amount,\n",
    " pickup_zip,\n",
    " dropoff_zip,\n",
    " pickup_city_name,\n",
    " dropoff_city_name,\n",
    " ingestion_timestamp\n",
    "FROM\n",
    " enriched_trips\n",
    "WHERE\n",
    " pickup_city_name IS NOT NULL -- Filtra viagens com cidades de origem válidas\n",
    " AND dropoff_city_name IS NOT NULL -- Filtra viagens com cidades de destino válidas\n",
    " AND trip_distance > 0 -- Garante distância positiva\n",
    " AND fare_amount > 0; -- Garante valor de tarifa positivo"
   ]
  },
  {
   "cell_type": "code",
   "execution_count": 0,
   "metadata": {
    "application/vnd.databricks.v1+cell": {
     "cellMetadata": {
      "byteLimit": 2048000,
      "implicitDf": true,
      "rowLimit": 10000
     },
     "inputWidgets": {},
     "nuid": "5ec489a8-f310-4765-9225-4aff90d0f8e1",
     "showTitle": false,
     "tableResultSettingsMap": {},
     "title": ""
    }
   },
   "outputs": [],
   "source": [
    "%sql\n",
    "-- 2. Verificar o Esquema e os Dados da Tabela Silver\n",
    "DESCRIBE DETAIL mc_labs.trips_silver;"
   ]
  },
  {
   "cell_type": "code",
   "execution_count": 0,
   "metadata": {
    "application/vnd.databricks.v1+cell": {
     "cellMetadata": {
      "byteLimit": 2048000,
      "implicitDf": true,
      "rowLimit": 10000
     },
     "inputWidgets": {},
     "nuid": "89139ad5-825f-456d-8d27-bc790764b4af",
     "showTitle": false,
     "tableResultSettingsMap": {},
     "title": ""
    }
   },
   "outputs": [],
   "source": [
    "%sql\n",
    "DESCRIBE HISTORY mc_labs.trips_silver;"
   ]
  },
  {
   "cell_type": "code",
   "execution_count": 0,
   "metadata": {
    "application/vnd.databricks.v1+cell": {
     "cellMetadata": {
      "byteLimit": 2048000,
      "implicitDf": true,
      "rowLimit": 10000
     },
     "inputWidgets": {},
     "nuid": "ba28c683-ca03-46e9-bf56-afa5393aaf8d",
     "showTitle": false,
     "tableResultSettingsMap": {},
     "title": ""
    }
   },
   "outputs": [],
   "source": [
    "%sql\n",
    "SELECT * FROM mc_labs.trips_silver LIMIT 10;"
   ]
  },
  {
   "cell_type": "markdown",
   "metadata": {
    "application/vnd.databricks.v1+cell": {
     "cellMetadata": {},
     "inputWidgets": {},
     "nuid": "a79ac4aa-113f-4f27-b60d-d14b1daead05",
     "showTitle": false,
     "tableResultSettingsMap": {},
     "title": ""
    }
   },
   "source": [
    "## -- 3. Simular uma Ingestão Incremental na Camada Silver usando MERGE INTO\n",
    "-- Esta é a forma mais comum e eficiente de atualizar a camada Silver.\n",
    "-- Vamos supor que novos dados chegaram na Bronze (que você inseriu no notebook anterior)\n",
    "-- e queremos processá-los para a Silver."
   ]
  },
  {
   "cell_type": "markdown",
   "metadata": {
    "application/vnd.databricks.v1+cell": {
     "cellMetadata": {},
     "inputWidgets": {},
     "nuid": "58b38d3f-bfb8-452a-b513-b567d4c9e887",
     "showTitle": false,
     "tableResultSettingsMap": {},
     "title": ""
    }
   },
   "source": [
    "## -- Primeiro, vamos criar uma CTE que representa os NOVOS dados a serem processados da Bronze\n",
    "-- (poderíamos filtrar por ingestion_timestamp > último_timestamp_processado)\n",
    "-- Para este exemplo, vamos pegar todos os dados da Bronze que ainda não estão na Silver\n",
    "-- (ou que foram atualizados na Bronze, se tivéssemos uma lógica de atualização lá).\n",
    "-- Uma abordagem mais robusta filtraria por `ingestion_timestamp` ou por um ID único.\n",
    "-- Para simplificar, vamos processar os registros da Bronze que não estão na Silver,\n",
    "-- ou que tiveram o `fare_amount` alterado (simulando uma atualização na Bronze)."
   ]
  },
  {
   "cell_type": "code",
   "execution_count": 0,
   "metadata": {
    "application/vnd.databricks.v1+cell": {
     "cellMetadata": {
      "byteLimit": 2048000,
      "implicitDf": true,
      "rowLimit": 10000
     },
     "inputWidgets": {},
     "nuid": "49658d45-e720-4bce-800e-e7b843a0b60e",
     "showTitle": false,
     "tableResultSettingsMap": {},
     "title": ""
    }
   },
   "outputs": [],
   "source": [
    "%sql\n",
    "WITH\n",
    " -- CTE para identificar os novos/atualizados dados da Bronze\n",
    " new_or_updated_bronze_data AS (\n",
    "     SELECT\n",
    "         tr.tpep_pickup_datetime AS pickup_datetime,\n",
    "         tr.tpep_dropoff_datetime AS dropoff_datetime,\n",
    "         tr.trip_distance,\n",
    "         tr.fare_amount,\n",
    "         tr.pickup_zip,\n",
    "         tr.dropoff_zip,\n",
    "         pz.city_name AS pickup_city_name,\n",
    "         dz.city_name AS dropoff_city_name,\n",
    "         tr.ingestion_timestamp\n",
    "     FROM\n",
    "         mc_labs.trips_bronze AS tr\n",
    "     LEFT JOIN\n",
    "         mc_labs.zip_code_info AS pz ON tr.pickup_zip = pz.zip\n",
    "     LEFT JOIN\n",
    "         mc_labs.zip_code_info AS dz ON tr.dropoff_zip = dz.zip\n",
    "     WHERE\n",
    "         pz.city_name IS NOT NULL -- Filtra viagens com cidades de origem válidas\n",
    "         AND dz.city_name IS NOT NULL -- Filtra viagens com cidades de destino válidas\n",
    "         AND tr.trip_distance > 0 -- Garante distância positiva\n",
    "         AND tr.fare_amount > 0 -- Garante valor de tarifa positivo\n",
    "         -- No cenário real, adicionaríamos um filtro aqui para pegar apenas os dados\n",
    "         -- que foram ingeridos na Bronze desde a última execução da Silver.\n",
    "         -- Ex: AND tr.ingestion_timestamp > (SELECT MAX(ingestion_timestamp) FROM mc_labs.trips_silver)\n",
    " )\n",
    "MERGE INTO mc_labs.trips_silver AS target\n",
    "USING new_or_updated_bronze_data AS source\n",
    "ON target.pickup_datetime = source.pickup_datetime\n",
    "AND target.pickup_zip = source.pickup_zip\n",
    "AND target.dropoff_zip = source.dropoff_zip\n",
    "WHEN MATCHED AND target.fare_amount <> source.fare_amount THEN -- Exemplo: se o fare_amount mudou, atualiza\n",
    " UPDATE SET\n",
    "     target.dropoff_datetime = source.dropoff_datetime,\n",
    "     target.trip_distance = source.trip_distance,\n",
    "     target.fare_amount = source.fare_amount,\n",
    "     target.pickup_city_name = source.pickup_city_name,\n",
    "     target.dropoff_city_name = source.dropoff_city_name,\n",
    "     target.ingestion_timestamp = source.ingestion_timestamp -- Atualiza o timestamp de ingestão\n",
    "WHEN NOT MATCHED THEN\n",
    " INSERT (pickup_datetime, dropoff_datetime, pickup_date, trip_distance, fare_amount, pickup_zip, dropoff_zip, pickup_city_name, dropoff_city_name, ingestion_timestamp)\n",
    " VALUES (source.pickup_datetime, source.dropoff_datetime, CAST(source.pickup_datetime AS DATE), source.trip_distance, source.fare_amount, source.pickup_zip, source.dropoff_zip, source.pickup_city_name, source.dropoff_city_name, source.ingestion_timestamp);"
   ]
  },
  {
   "cell_type": "markdown",
   "metadata": {
    "application/vnd.databricks.v1+cell": {
     "cellMetadata": {},
     "inputWidgets": {},
     "nuid": "848da926-f80b-4731-81de-a7ce013eaab0",
     "showTitle": false,
     "tableResultSettingsMap": {},
     "title": ""
    }
   },
   "source": [
    "## -- 4. Verificar os resultados do MERGE e o histórico da Silver"
   ]
  },
  {
   "cell_type": "code",
   "execution_count": 0,
   "metadata": {
    "application/vnd.databricks.v1+cell": {
     "cellMetadata": {
      "byteLimit": 2048000,
      "implicitDf": true,
      "rowLimit": 10000
     },
     "inputWidgets": {},
     "nuid": "8d8c4c5f-cd21-4c3a-9f30-ef3cdf82f4bf",
     "showTitle": false,
     "tableResultSettingsMap": {},
     "title": ""
    }
   },
   "outputs": [],
   "source": [
    "%sql\n",
    "SELECT * FROM mc_labs.trips_silver WHERE pickup_zip IN (10001, 10003) ORDER BY pickup_datetime;"
   ]
  },
  {
   "cell_type": "code",
   "execution_count": 0,
   "metadata": {
    "application/vnd.databricks.v1+cell": {
     "cellMetadata": {
      "byteLimit": 2048000,
      "implicitDf": true,
      "rowLimit": 10000
     },
     "inputWidgets": {},
     "nuid": "9e021b3e-92f8-4066-95bd-a4bd26474f2f",
     "showTitle": false,
     "tableResultSettingsMap": {},
     "title": ""
    }
   },
   "outputs": [],
   "source": [
    "%sql\n",
    "DESCRIBE HISTORY mc_labs.trips_silver; -- Observe uma nova versão no histórico"
   ]
  }
 ],
 "metadata": {
  "application/vnd.databricks.v1+notebook": {
   "computePreferences": null,
   "dashboards": [],
   "environmentMetadata": {
    "base_environment": "",
    "environment_version": "4"
   },
   "inputWidgetPreferences": null,
   "language": "python",
   "notebookMetadata": {
    "mostRecentlyExecutedCommandWithImplicitDF": {
     "commandId": 7721502866728122,
     "dataframes": [
      "_sqldf"
     ]
    },
    "pythonIndentUnit": 4
   },
   "notebookName": "02_silver_layer",
   "widgets": {}
  },
  "language_info": {
   "name": "python"
  }
 },
 "nbformat": 4,
 "nbformat_minor": 0
}
