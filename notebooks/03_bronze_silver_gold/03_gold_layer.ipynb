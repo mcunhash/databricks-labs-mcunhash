{
 "cells": [
  {
   "cell_type": "markdown",
   "metadata": {
    "application/vnd.databricks.v1+cell": {
     "cellMetadata": {},
     "inputWidgets": {},
     "nuid": "f54fe07e-1f3c-4233-b43c-d6c089c53042",
     "showTitle": false,
     "tableResultSettingsMap": {},
     "title": ""
    }
   },
   "source": [
    "## -- Notebook: 03_gold_layer.ipynb\n",
    "-- Camada: Gold\n",
    "-- Objetivo: Criar tabelas agregadas e prontas para consumo de BI/ML."
   ]
  },
  {
   "cell_type": "markdown",
   "metadata": {
    "application/vnd.databricks.v1+cell": {
     "cellMetadata": {},
     "inputWidgets": {},
     "nuid": "cb21bafc-b84a-4ca8-b707-9e746ffb68e7",
     "showTitle": false,
     "tableResultSettingsMap": {},
     "title": ""
    }
   },
   "source": [
    "## -- 1. Criar a Tabela Delta na Camada Gold\n",
    "-- Esta tabela conterá métricas diárias agregadas por par de cidades."
   ]
  },
  {
   "cell_type": "code",
   "execution_count": 0,
   "metadata": {
    "application/vnd.databricks.v1+cell": {
     "cellMetadata": {
      "byteLimit": 2048000,
      "implicitDf": true,
      "rowLimit": 10000
     },
     "inputWidgets": {},
     "nuid": "7d51b3f7-6b8e-4e31-bc9a-eac45ef16db4",
     "showTitle": false,
     "tableResultSettingsMap": {},
     "title": ""
    }
   },
   "outputs": [],
   "source": [
    "%sql\n",
    "CREATE TABLE IF NOT EXISTS mc_labs.daily_city_pair_metrics\n",
    "USING DELTA\n",
    "AS\n",
    "SELECT\n",
    " pickup_date,\n",
    " pickup_city_name,\n",
    " dropoff_city_name,\n",
    " COUNT(*) AS total_trips,\n",
    " AVG(fare_amount) AS avg_fare_amount,\n",
    " SUM(trip_distance) AS total_trip_distance\n",
    "FROM\n",
    " mc_labs.trips_silver\n",
    "GROUP BY\n",
    " pickup_date,\n",
    " pickup_city_name,\n",
    " dropoff_city_name\n",
    "ORDER BY\n",
    " pickup_date, pickup_city_name, dropoff_city_name;"
   ]
  },
  {
   "cell_type": "code",
   "execution_count": 0,
   "metadata": {
    "application/vnd.databricks.v1+cell": {
     "cellMetadata": {
      "byteLimit": 2048000,
      "implicitDf": true,
      "rowLimit": 10000
     },
     "inputWidgets": {},
     "nuid": "d18a8181-c8b5-469e-85f8-a413bc20e7bb",
     "showTitle": false,
     "tableResultSettingsMap": {},
     "title": ""
    }
   },
   "outputs": [],
   "source": [
    "%sql\n",
    "-- 2. Verificar o Esquema e os Dados da Tabela Gold\n",
    "DESCRIBE DETAIL mc_labs.daily_city_pair_metrics;"
   ]
  },
  {
   "cell_type": "code",
   "execution_count": 0,
   "metadata": {
    "application/vnd.databricks.v1+cell": {
     "cellMetadata": {
      "byteLimit": 2048000,
      "implicitDf": true,
      "rowLimit": 10000
     },
     "inputWidgets": {},
     "nuid": "d5eb44df-05ba-482d-a323-c3caa01ada15",
     "showTitle": false,
     "tableResultSettingsMap": {},
     "title": ""
    }
   },
   "outputs": [],
   "source": [
    "%sql\n",
    "DESCRIBE HISTORY mc_labs.daily_city_pair_metrics;"
   ]
  },
  {
   "cell_type": "code",
   "execution_count": 0,
   "metadata": {
    "application/vnd.databricks.v1+cell": {
     "cellMetadata": {
      "byteLimit": 2048000,
      "implicitDf": true,
      "rowLimit": 10000
     },
     "inputWidgets": {},
     "nuid": "04ed1474-2385-4b6b-9685-e7d34fee1342",
     "showTitle": false,
     "tableResultSettingsMap": {},
     "title": ""
    }
   },
   "outputs": [],
   "source": [
    "%sql\n",
    "SELECT * FROM mc_labs.daily_city_pair_metrics LIMIT 10;"
   ]
  },
  {
   "cell_type": "markdown",
   "metadata": {
    "application/vnd.databricks.v1+cell": {
     "cellMetadata": {},
     "inputWidgets": {},
     "nuid": "ec7fea06-4456-4fdb-bee2-456dd8cef3b5",
     "showTitle": false,
     "tableResultSettingsMap": {},
     "title": ""
    }
   },
   "source": [
    "## -- 3. Simular uma Atualização Incremental na Camada Gold (Exemplo com MERGE INTO)\n",
    "-- Para tabelas Gold, muitas vezes você pode re-processar o dia mais recente ou um período.\n",
    "-- No entanto, se as métricas forem mais complexas ou se você quiser evitar re-agregações completas,\n",
    "-- MERGE INTO pode ser usado para atualizar apenas os dias/registros afetados.\n"
   ]
  },
  {
   "cell_type": "markdown",
   "metadata": {
    "application/vnd.databricks.v1+cell": {
     "cellMetadata": {},
     "inputWidgets": {},
     "nuid": "28884916-00dd-41d8-9def-00d10ac60aa8",
     "showTitle": false,
     "tableResultSettingsMap": {},
     "title": ""
    }
   },
   "source": [
    "## -- Vamos simular que novos dados chegaram na Silver (e, portanto, na Bronze) para uma data específica.\n",
    "-- Para este exemplo, vamos re-calcular as métricas para a data mais recente presente na Silver\n",
    "-- e usar MERGE INTO para atualizar/inserir na Gold.\n",
    "\n",
    "-- Encontre a data mais recente na Silver\n",
    "-- (Em um pipeline real, você teria um mecanismo para saber quais datas foram atualizadas na Silver)\n",
    "-- SET spark.sql.variable.latest_silver_date = (SELECT MAX(pickup_date) FROM mc_labs.trips_silver);\n",
    "-- SELECT '${spark.sql.variable.latest_silver_date}'; -- Para verificar a variável\n"
   ]
  },
  {
   "cell_type": "code",
   "execution_count": 0,
   "metadata": {
    "application/vnd.databricks.v1+cell": {
     "cellMetadata": {
      "byteLimit": 2048000,
      "implicitDf": true,
      "rowLimit": 10000
     },
     "inputWidgets": {},
     "nuid": "a4563429-7d1d-4682-a60d-ea658a2c10c9",
     "showTitle": false,
     "tableResultSettingsMap": {},
     "title": ""
    }
   },
   "outputs": [],
   "source": [
    "%sql\n",
    "WITH\n",
    " -- CTE para recalcular as métricas para a data mais recente na Silver\n",
    " -- (ou para qualquer data que tenha sido atualizada na Silver)\n",
    " latest_daily_metrics AS (\n",
    "     SELECT\n",
    "         pickup_date,\n",
    "         pickup_city_name,\n",
    "         dropoff_city_name,\n",
    "         COUNT(*) AS total_trips,\n",
    "         AVG(fare_amount) AS avg_fare_amount,\n",
    "         SUM(trip_distance) AS total_trip_distance\n",
    "     FROM\n",
    "         mc_labs.trips_silver\n",
    "     WHERE\n",
    "         -- Filtrar pela data mais recente (ou datas que foram atualizadas)\n",
    "         -- Para este exemplo, vamos pegar uma data específica que sabemos que tem dados\n",
    "         pickup_date = (SELECT MAX(pickup_date) FROM mc_labs.trips_silver)\n",
    "     GROUP BY\n",
    "         pickup_date,\n",
    "         pickup_city_name,\n",
    "         dropoff_city_name\n",
    " )\n",
    "MERGE INTO mc_labs.daily_city_pair_metrics AS target\n",
    "USING latest_daily_metrics AS source\n",
    "ON target.pickup_date = source.pickup_date\n",
    "AND target.pickup_city_name = source.pickup_city_name\n",
    "AND target.dropoff_city_name = source.dropoff_city_name\n",
    "WHEN MATCHED THEN\n",
    " UPDATE SET\n",
    "     target.total_trips = source.total_trips,\n",
    "     target.avg_fare_amount = source.avg_fare_amount,\n",
    "     target.total_trip_distance = source.total_trip_distance\n",
    "WHEN NOT MATCHED THEN\n",
    " INSERT (pickup_date, pickup_city_name, dropoff_city_name, total_trips, avg_fare_amount, total_trip_distance)\n",
    " VALUES (source.pickup_date, source.pickup_city_name, source.dropoff_city_name, source.total_trips, source.avg_fare_amount, source.total_trip_distance);\n"
   ]
  },
  {
   "cell_type": "code",
   "execution_count": 0,
   "metadata": {
    "application/vnd.databricks.v1+cell": {
     "cellMetadata": {
      "byteLimit": 2048000,
      "implicitDf": true,
      "rowLimit": 10000
     },
     "inputWidgets": {},
     "nuid": "46c60f0e-58ca-4cf7-b6e3-434be8d3244d",
     "showTitle": false,
     "tableResultSettingsMap": {},
     "title": ""
    }
   },
   "outputs": [],
   "source": [
    "%sql\n",
    "-- 4. Verificar os resultados do MERGE e o histórico da Gold\n",
    "SELECT * FROM mc_labs.daily_city_pair_metrics WHERE pickup_date = (SELECT MAX(pickup_date) FROM mc_labs.trips_silver) LIMIT 10;"
   ]
  },
  {
   "cell_type": "code",
   "execution_count": 0,
   "metadata": {
    "application/vnd.databricks.v1+cell": {
     "cellMetadata": {
      "byteLimit": 2048000,
      "implicitDf": true,
      "rowLimit": 10000
     },
     "inputWidgets": {},
     "nuid": "51bda642-9c4f-4c0e-b68c-f163b1bcd120",
     "showTitle": false,
     "tableResultSettingsMap": {},
     "title": ""
    }
   },
   "outputs": [],
   "source": [
    "%sql\n",
    "DESCRIBE HISTORY mc_labs.daily_city_pair_metrics;"
   ]
  }
 ],
 "metadata": {
  "application/vnd.databricks.v1+notebook": {
   "computePreferences": null,
   "dashboards": [],
   "environmentMetadata": {
    "base_environment": "",
    "environment_version": "4"
   },
   "inputWidgetPreferences": null,
   "language": "python",
   "notebookMetadata": {
    "mostRecentlyExecutedCommandWithImplicitDF": {
     "commandId": 7721502866728136,
     "dataframes": [
      "_sqldf"
     ]
    },
    "pythonIndentUnit": 4
   },
   "notebookName": "03_gold_layer",
   "widgets": {}
  },
  "language_info": {
   "name": "python"
  }
 },
 "nbformat": 4,
 "nbformat_minor": 0
}
