{
 "cells": [
  {
   "cell_type": "markdown",
   "metadata": {
    "application/vnd.databricks.v1+cell": {
     "cellMetadata": {},
     "inputWidgets": {},
     "nuid": "b6ac28ea-78e4-46ad-a548-3c8361f43d1b",
     "showTitle": false,
     "tableResultSettingsMap": {},
     "title": ""
    }
   },
   "source": [
    "## -- Notebook: 01_bronze_layer.ipynb\n",
    "-- Camada: Bronze\n",
    "-- Objetivo: Ingerir dados brutos da fonte (trips_raw) para a camada Bronze."
   ]
  },
  {
   "cell_type": "markdown",
   "metadata": {
    "application/vnd.databricks.v1+cell": {
     "cellMetadata": {},
     "inputWidgets": {},
     "nuid": "4a62e45a-d8fb-43c0-8f66-2c35cfdc5be1",
     "showTitle": false,
     "tableResultSettingsMap": {},
     "title": ""
    }
   },
   "source": [
    "## -- 1. Criar a Tabela Delta na Camada Bronze\n",
    "-- Usaremos CREATE TABLE AS SELECT (CTAS) para criar a tabela bronze\n",
    "-- a partir da nossa \"fonte\" (mc_labs.trips_raw).\n",
    "-- No mundo real, esta fonte poderia ser um arquivo CSV/JSON em um blob storage,\n",
    "-- um tópico Kafka, um banco de dados relacional, etc."
   ]
  },
  {
   "cell_type": "code",
   "execution_count": 0,
   "metadata": {
    "application/vnd.databricks.v1+cell": {
     "cellMetadata": {
      "byteLimit": 2048000,
      "implicitDf": true,
      "rowLimit": 10000
     },
     "inputWidgets": {},
     "nuid": "6ed40517-4cff-411c-aec1-d7f4f75ea356",
     "showTitle": false,
     "tableResultSettingsMap": {},
     "title": ""
    }
   },
   "outputs": [],
   "source": [
    "%sql\n",
    "CREATE TABLE IF NOT EXISTS mc_labs.trips_bronze\n",
    "USING DELTA\n",
    "AS SELECT\n",
    "tpep_pickup_datetime,\n",
    "tpep_dropoff_datetime,\n",
    "trip_distance,\n",
    "fare_amount,\n",
    "pickup_zip,\n",
    "dropoff_zip,\n",
    "current_timestamp() AS ingestion_timestamp, -- Adiciona um timestamp de ingestão\n",
    "input_file_name() AS source_file_name       -- Adiciona o nome do arquivo de origem (se aplicável)\n",
    "FROM mc_labs.trips_raw;"
   ]
  },
  {
   "cell_type": "markdown",
   "metadata": {
    "application/vnd.databricks.v1+cell": {
     "cellMetadata": {},
     "inputWidgets": {},
     "nuid": "dbb2752d-88a3-4c44-9e72-cbe85f6e1839",
     "showTitle": false,
     "tableResultSettingsMap": {},
     "title": ""
    }
   },
   "source": [
    "## -- 2. Verificar o Esquema e os Dados da Tabela Bronze"
   ]
  },
  {
   "cell_type": "code",
   "execution_count": 0,
   "metadata": {
    "application/vnd.databricks.v1+cell": {
     "cellMetadata": {
      "byteLimit": 2048000,
      "implicitDf": true,
      "rowLimit": 10000
     },
     "inputWidgets": {},
     "nuid": "ed4cec2b-a07e-44c4-a619-87cea85f5f5c",
     "showTitle": false,
     "tableResultSettingsMap": {
      "0": {
       "dataGridStateBlob": "{\"version\":1,\"tableState\":{\"columnPinning\":{\"left\":[\"#row_number#\"],\"right\":[]},\"columnSizing\":{},\"columnVisibility\":{}},\"settings\":{\"columns\":{}},\"syncTimestamp\":1761446054480}",
       "filterBlob": null,
       "queryPlanFiltersBlob": null,
       "tableResultIndex": 0
      }
     },
     "title": ""
    }
   },
   "outputs": [],
   "source": [
    "%sql\n",
    "DESCRIBE DETAIL mc_labs.trips_bronze;\n"
   ]
  },
  {
   "cell_type": "code",
   "execution_count": 0,
   "metadata": {
    "application/vnd.databricks.v1+cell": {
     "cellMetadata": {
      "byteLimit": 2048000,
      "implicitDf": true,
      "rowLimit": 10000
     },
     "inputWidgets": {},
     "nuid": "6a67b6f9-94e5-40a1-aa10-05b9beb03d2c",
     "showTitle": false,
     "tableResultSettingsMap": {},
     "title": ""
    }
   },
   "outputs": [],
   "source": [
    "%sql\n",
    "DESCRIBE HISTORY mc_labs.trips_bronze;\n"
   ]
  },
  {
   "cell_type": "code",
   "execution_count": 0,
   "metadata": {
    "application/vnd.databricks.v1+cell": {
     "cellMetadata": {
      "byteLimit": 2048000,
      "implicitDf": true,
      "rowLimit": 10000
     },
     "inputWidgets": {},
     "nuid": "f92b9ceb-3244-4245-9839-d6d56cf1892c",
     "showTitle": false,
     "tableResultSettingsMap": {},
     "title": ""
    }
   },
   "outputs": [],
   "source": [
    "%sql\n",
    "SELECT * FROM mc_labs.trips_bronze LIMIT 10;"
   ]
  },
  {
   "cell_type": "markdown",
   "metadata": {
    "application/vnd.databricks.v1+cell": {
     "cellMetadata": {},
     "inputWidgets": {},
     "nuid": "b4cf1abe-19d1-4dad-a85c-f4993ab76077",
     "showTitle": false,
     "tableResultSettingsMap": {},
     "title": ""
    }
   },
   "source": [
    "## -- 3. Simular uma Ingestão Incremental (Novos Dados)\n",
    "-- No cenário real, novos dados chegariam e seriam adicionados à tabela Bronze.\n",
    "-- Vamos simular isso inserindo alguns registros de exemplo.\n",
    "-- Para uma ingestão incremental mais robusta (com atualizações), usaríamos MERGE INTO.\n",
    "-- Para a camada Bronze, muitas vezes é um simples APPEND (INSERT INTO)."
   ]
  },
  {
   "cell_type": "code",
   "execution_count": 0,
   "metadata": {
    "application/vnd.databricks.v1+cell": {
     "cellMetadata": {
      "byteLimit": 2048000,
      "implicitDf": true,
      "rowLimit": 10000
     },
     "inputWidgets": {},
     "nuid": "962ebe29-3b24-467d-af1a-a3136d972582",
     "showTitle": false,
     "tableResultSettingsMap": {},
     "title": ""
    }
   },
   "outputs": [],
   "source": [
    "%sql\n",
    "INSERT INTO mc_labs.trips_bronze VALUES\n",
    "('2023-01-01 10:00:00', '2023-01-01 10:15:00', 2.5, 15.00, 10001, 10002, current_timestamp(), 'simulated_new_data_1.csv'),\n",
    "('2023-01-01 11:00:00', '2023-01-01 11:30:00', 5.0, 25.50, 10003, 10004, current_timestamp(), 'simulated_new_data_2.csv');\n",
    "\n",
    "-- Verificar os novos dados e o histórico\n",
    "SELECT * FROM mc_labs.trips_bronze WHERE pickup_zip IN (10001, 10003);"
   ]
  },
  {
   "cell_type": "code",
   "execution_count": 0,
   "metadata": {
    "application/vnd.databricks.v1+cell": {
     "cellMetadata": {
      "byteLimit": 2048000,
      "implicitDf": true,
      "rowLimit": 10000
     },
     "inputWidgets": {},
     "nuid": "4de9c1c0-fcce-4987-8239-aa3388af2eb3",
     "showTitle": false,
     "tableResultSettingsMap": {},
     "title": ""
    }
   },
   "outputs": [],
   "source": [
    "%sql\n",
    "DESCRIBE HISTORY mc_labs.trips_bronze; -- Observe uma nova versão no histórico"
   ]
  },
  {
   "cell_type": "markdown",
   "metadata": {
    "application/vnd.databricks.v1+cell": {
     "cellMetadata": {},
     "inputWidgets": {},
     "nuid": "98faa499-c877-4ada-acf1-de7daaceda40",
     "showTitle": false,
     "tableResultSettingsMap": {},
     "title": ""
    }
   },
   "source": [
    "## -- 4. Exemplo de Time Travel na Camada Bronze\n",
    "-- Podemos consultar o estado da tabela antes da inserção incremental\n",
    "-- (Assumindo que a primeira operação de CREATE TABLE AS SELECT foi a versão 0)"
   ]
  },
  {
   "cell_type": "code",
   "execution_count": 0,
   "metadata": {
    "application/vnd.databricks.v1+cell": {
     "cellMetadata": {
      "byteLimit": 2048000,
      "implicitDf": true,
      "rowLimit": 10000
     },
     "inputWidgets": {},
     "nuid": "18d964da-afab-4e37-a944-4304fb84bf60",
     "showTitle": false,
     "tableResultSettingsMap": {},
     "title": ""
    }
   },
   "outputs": [],
   "source": [
    "%sql\n",
    "SELECT * FROM mc_labs.trips_bronze VERSION AS OF 0 LIMIT 10;"
   ]
  },
  {
   "cell_type": "code",
   "execution_count": 0,
   "metadata": {
    "application/vnd.databricks.v1+cell": {
     "cellMetadata": {
      "byteLimit": 2048000,
      "implicitDf": true,
      "rowLimit": 10000
     },
     "inputWidgets": {},
     "nuid": "b5315609-e56c-4193-a460-308f00862902",
     "showTitle": false,
     "tableResultSettingsMap": {},
     "title": ""
    }
   },
   "outputs": [],
   "source": [
    "%sql\n",
    "SELECT MAX(version) - 1 AS previous_version\n",
    "FROM (DESCRIBE HISTORY mc_labs.trips_bronze);"
   ]
  }
 ],
 "metadata": {
  "application/vnd.databricks.v1+notebook": {
   "computePreferences": null,
   "dashboards": [],
   "environmentMetadata": {
    "base_environment": "",
    "environment_version": "4"
   },
   "inputWidgetPreferences": null,
   "language": "python",
   "notebookMetadata": {
    "mostRecentlyExecutedCommandWithImplicitDF": {
     "commandId": 7721502866728108,
     "dataframes": [
      "_sqldf"
     ]
    },
    "pythonIndentUnit": 4
   },
   "notebookName": "01_bronze_layer",
   "widgets": {}
  },
  "language_info": {
   "name": "python"
  }
 },
 "nbformat": 4,
 "nbformat_minor": 0
}
